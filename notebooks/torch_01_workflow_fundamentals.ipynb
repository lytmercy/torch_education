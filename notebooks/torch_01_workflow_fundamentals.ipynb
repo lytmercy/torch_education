{
  "nbformat": 4,
  "nbformat_minor": 0,
  "metadata": {
    "colab": {
      "provenance": [],
      "gpuType": "T4"
    },
    "kernelspec": {
      "name": "python3",
      "display_name": "Python 3"
    },
    "language_info": {
      "name": "python"
    },
    "accelerator": "GPU"
  },
  "cells": [
    {
      "cell_type": "code",
      "source": [
        "!pip3 install -q torch==2.0.1 torchvision torchaudio"
      ],
      "metadata": {
        "id": "gUCmZotlLzem"
      },
      "execution_count": 1,
      "outputs": []
    },
    {
      "cell_type": "code",
      "source": [
        "!nvidia-smi -L"
      ],
      "metadata": {
        "id": "twxKGj4BLzbw",
        "colab": {
          "base_uri": "https://localhost:8080/"
        },
        "outputId": "b7db033c-447e-46b4-c55e-095c00ae18d9"
      },
      "execution_count": 2,
      "outputs": [
        {
          "output_type": "stream",
          "name": "stdout",
          "text": [
            "GPU 0: Tesla T4 (UUID: GPU-1591d039-b04e-3207-32f4-efd66149aa50)\n"
          ]
        }
      ]
    },
    {
      "cell_type": "markdown",
      "source": [
        "# 01. PyTorch Workflow Fundamentals"
      ],
      "metadata": {
        "id": "iOsjra6ILyas"
      }
    },
    {
      "cell_type": "markdown",
      "source": [
        "PyTorch Workflow covers the main outline of steps:\n",
        "\n",
        "![](https://raw.githubusercontent.com/mrdbourke/pytorch-deep-learning/main/images/01_a_pytorch_workflow.png)\n",
        "\n",
        "Specifically, we're going to cover:\n",
        "\n",
        "| Topic | Contents |\n",
        "| ----- | -------- |\n",
        "| 1. Getting data ready | Data can be almost anything but to get started we're going to create a simple straght line. |\n",
        "| 2. Building a model | Here we'll create a model to learn patterns in the data, we'll also choose a loss function, optimizer and buld a training loop. |\n",
        "| 3. Fitting the model to data (training) | We've got data and a model, now let's let the model (try to) find patterns in the (training) data. |\n",
        "| 4. Making predictions and evaluating a model (inference) | Our model's found patterns in the data, let's compare it's findings to the actual (testing) data. |\n",
        "| 5. Saving and loading a model | You may want to use your model elsewhere, or come back to it later, here we'll cover that. |\n",
        "| 6. Putting it all together | Let's take all of the above and combine it. |"
      ],
      "metadata": {
        "id": "wnEQ3Ly8waeD"
      }
    },
    {
      "cell_type": "code",
      "source": [
        "what_were_covering = {1: \"data (prepare and load)\",\n",
        "                      2: \"build model\",\n",
        "                      3: \"fitting the model to data (training)\",\n",
        "                      4: \"making predictions and evaluating a model (inference)\",\n",
        "                      5: \"saving and loading a model\",\n",
        "                      6: \"putting it all together\"}"
      ],
      "metadata": {
        "id": "uCdi4pB7MYfH"
      },
      "execution_count": null,
      "outputs": []
    },
    {
      "cell_type": "code",
      "source": [
        "import torch\n",
        "from torch import nn  # nn contains all of PyTorch's building blocks for neural network\n",
        "import matplotlib.pyplot as plt\n",
        "\n",
        "# Check PyTorch version\n",
        "torch.__version__"
      ],
      "metadata": {
        "id": "FiWK1_E1MYc8",
        "colab": {
          "base_uri": "https://localhost:8080/",
          "height": 36
        },
        "outputId": "b2709df5-9d07-43cb-f372-88d391c00e89"
      },
      "execution_count": 3,
      "outputs": [
        {
          "output_type": "execute_result",
          "data": {
            "text/plain": [
              "'2.0.1+cu118'"
            ],
            "application/vnd.google.colaboratory.intrinsic+json": {
              "type": "string"
            }
          },
          "metadata": {},
          "execution_count": 3
        }
      ]
    },
    {
      "cell_type": "markdown",
      "source": [
        "## 1. Data (preparing and loading)"
      ],
      "metadata": {
        "id": "S67nF5DVzJ2x"
      }
    },
    {
      "cell_type": "code",
      "source": [
        "# Create *known* parameters\n",
        "weight = 0.7\n",
        "bias = 0.3\n",
        "\n",
        "# Create a data\n",
        "start = 0\n",
        "end = 1\n",
        "step = 0.02\n",
        "X = torch.arange(start, end, step).unsqueeze(dim=1)\n",
        "y = weight * X + bias\n",
        "\n",
        "X[:10], y[:10]"
      ],
      "metadata": {
        "colab": {
          "base_uri": "https://localhost:8080/"
        },
        "id": "VHOfzfJ_zOid",
        "outputId": "ef0aff33-de0e-4c36-abde-b9c65b9869fc"
      },
      "execution_count": null,
      "outputs": [
        {
          "output_type": "execute_result",
          "data": {
            "text/plain": [
              "(tensor([[0.0000],\n",
              "         [0.0200],\n",
              "         [0.0400],\n",
              "         [0.0600],\n",
              "         [0.0800],\n",
              "         [0.1000],\n",
              "         [0.1200],\n",
              "         [0.1400],\n",
              "         [0.1600],\n",
              "         [0.1800]]),\n",
              " tensor([[0.3000],\n",
              "         [0.3140],\n",
              "         [0.3280],\n",
              "         [0.3420],\n",
              "         [0.3560],\n",
              "         [0.3700],\n",
              "         [0.3840],\n",
              "         [0.3980],\n",
              "         [0.4120],\n",
              "         [0.4260]]))"
            ]
          },
          "metadata": {},
          "execution_count": 52
        }
      ]
    },
    {
      "cell_type": "markdown",
      "source": [
        "### Split data into training and test sets"
      ],
      "metadata": {
        "id": "pJDjeF9T0zoB"
      }
    },
    {
      "cell_type": "markdown",
      "source": [
        "One of the most important steps in a machine learning project is creating a training and test set (and when required, a validation set).\n",
        "\n",
        "Each split of the dataset serves a specific purpose:\n",
        "\n",
        "| Split | Purpose | Amount of total data | How often is it used? |\n",
        "| ----- | ------- | -------------------- | --------------------- |\n",
        "| Training set | The model learns from this data (like the course material you study during the semester). | ~60-80% | Always |\n",
        "| Validation set | The model gets tuned on this data (like the practice exam you take before the final exam). | ~10-20% | Often but not always |\n",
        "| Testing set | The model gets evaluated on this data to test what it has learned (like the final exam you take at the end of the semester). | ~10-20% | Always |\n"
      ],
      "metadata": {
        "id": "hC8vpwwn07k1"
      }
    },
    {
      "cell_type": "code",
      "source": [
        "# Create train/test split\n",
        "train_split = int(0.8 * len(X))  # 80% of data used for training set, 20% for testing\n",
        "\n",
        "X_train, y_train = X[:train_split], y[:train_split]\n",
        "X_test, y_test = X[train_split:], y[train_split:]\n",
        "\n",
        "len(X_train), len(y_train), len(X_test), len(y_test)"
      ],
      "metadata": {
        "colab": {
          "base_uri": "https://localhost:8080/"
        },
        "id": "K8988mcczOgd",
        "outputId": "342027f3-b398-4c1f-e2c7-01da8b0aabfa"
      },
      "execution_count": null,
      "outputs": [
        {
          "output_type": "execute_result",
          "data": {
            "text/plain": [
              "(40, 40, 10, 10)"
            ]
          },
          "metadata": {},
          "execution_count": 53
        }
      ]
    },
    {
      "cell_type": "markdown",
      "source": [
        "### Visualise data"
      ],
      "metadata": {
        "id": "d0IZSJsi2lmF"
      }
    },
    {
      "cell_type": "code",
      "source": [
        "def plot_predictions(train_data=X_train,\n",
        "                     train_labels=y_train,\n",
        "                     test_data=X_test,\n",
        "                     test_labels=y_test,\n",
        "                     predictions=None):\n",
        "    \"\"\"Plots trainig data, test data and compares predictions.\"\"\"\n",
        "\n",
        "    plt.figure(figsize=(10, 7))\n",
        "\n",
        "    # Plot training data in blue\n",
        "    plt.scatter(train_data, train_labels, c='b', s=4, label=\"Training data\")\n",
        "\n",
        "    # Plot test data in green\n",
        "    plt.scatter(test_data, test_labels, c='g', s=4, label=\"Test data\")\n",
        "\n",
        "    if predictions is not None:\n",
        "        # Plot the predictions in red (predictions were made on the test data)\n",
        "        plt.scatter(test_data, predictions, c='r', s=4, label=\"Predictions\")\n",
        "\n",
        "    # SHow the legend\n",
        "    plt.legend(prop={\"size\": 14})"
      ],
      "metadata": {
        "id": "uci0TwdzzOd6"
      },
      "execution_count": null,
      "outputs": []
    },
    {
      "cell_type": "code",
      "source": [
        "plot_predictions()"
      ],
      "metadata": {
        "colab": {
          "base_uri": "https://localhost:8080/",
          "height": 599
        },
        "id": "4cWRJP9XzObn",
        "outputId": "efd0b363-71f2-471d-c263-23668ebd02a8"
      },
      "execution_count": null,
      "outputs": [
        {
          "output_type": "display_data",
          "data": {
            "text/plain": [
              "<Figure size 1000x700 with 1 Axes>"
            ],
            "image/png": "[encoded data removed]"
          },
          "metadata": {}
        }
      ]
    },
    {
      "cell_type": "markdown",
      "source": [
        "## 2. Build model"
      ],
      "metadata": {
        "id": "0YPQI0yz3x9G"
      }
    },
    {
      "cell_type": "code",
      "source": [
        "# Create a Linear Regression model class\n",
        "class LinearRegressionModel(nn.Module):  # <- almost everything in PyTorch is a nn.Module (think of this as neural network lego blocks)\n",
        "\n",
        "    def __init__(self):\n",
        "        super().__init__()\n",
        "        self.weights = nn.Parameter(torch.randn(1,  # <- start with random weights (this will get adjusted as the model learns)\n",
        "                                                dtype=torch.float),  # <- PyTorch loves float32 by default\n",
        "                                    requires_grad=True)  # <- can we update this value with gradient descent? (True or False)\n",
        "\n",
        "        self.bias = nn.Parameter(torch.randn(1,  # <- start with random bias (this will get adjusted as teh model learns)\n",
        "                                             dtype=torch.float),\n",
        "                                 requires_grad=True)\n",
        "\n",
        "    # Forward define the computation in the model\n",
        "    def forward(self, x: torch.Tensor) -> torch.Tensor:  # <- 'x' is the input data e.g. training/testing features)\n",
        "        return self.weights * x + self.bias  # <- this is the linear regression formula (y = m * x + b)"
      ],
      "metadata": {
        "id": "Rz-1KL32zOZH"
      },
      "execution_count": null,
      "outputs": []
    },
    {
      "cell_type": "markdown",
      "source": [
        "### PyTorch model building essentials"
      ],
      "metadata": {
        "id": "cVLhMTuP5vBK"
      }
    },
    {
      "cell_type": "markdown",
      "source": [
        "PyTorch has four (give or take) essential modules you can use to create almost any kind of neural network you can imagine:\n",
        "\n",
        "| PyTorch module | What does it do? |\n",
        "| -------------- | ---------------- |\n",
        "| `torch.nn` | Contains all of the building blocks for computational graphs (essentially a series of computations executed in a particular way). |\n",
        "| `torch.nn.Parameter` | Stores tensors that can be used with `nn.Module`. If `requires_grad=True` gradients (used for updating model parameters via gradient descent) are calculated automatically, this is often referred to as \"autograd\". |\n",
        "| `torch.nn.Module` | The base class for all neural network modules, all the building block for neural networks are subclasses. If you're building a neural network in PyTorch, your models should subclass `nn.Module`. Requires a `forward()` method be implemented. |\n",
        "| `torch.optim` | Contains various optimization algorithms (these tell the model parameters stored in `nn.Parameter` how to best change to improve gradient descent and in turn reduce the loss). |\n",
        "| `def forward()` | All `nn.Module` subclasses require a `forward()` method, this defines the computation that will take place on the data passed to the particular `nn.Module` (e.g. linear regression formula above). |"
      ],
      "metadata": {
        "id": "W4fbPKKT5yJ4"
      }
    },
    {
      "cell_type": "markdown",
      "source": [
        "### Checking the contents of a PyTorch model"
      ],
      "metadata": {
        "id": "xECqTMF18f5o"
      }
    },
    {
      "cell_type": "code",
      "source": [
        "# Set manual seed since nn.Parameters are randomly initialized\n",
        "torch.manual_seed(42)  # 17\n",
        "\n",
        "# Create an instance of the model (this is a subclass of nn.Module that contains nn.Parameter(s))\n",
        "model_0 = LinearRegressionModel()\n",
        "\n",
        "# Check the nn.Parameter(s) within the nn.Module subclass we created\n",
        "list(model_0.parameters())"
      ],
      "metadata": {
        "colab": {
          "base_uri": "https://localhost:8080/"
        },
        "id": "Jw3ZwpOszOW0",
        "outputId": "c018ebd8-317f-4a77-a67e-f12aadafc1ae"
      },
      "execution_count": null,
      "outputs": [
        {
          "output_type": "execute_result",
          "data": {
            "text/plain": [
              "[Parameter containing:\n",
              " tensor([0.3367], requires_grad=True),\n",
              " Parameter containing:\n",
              " tensor([0.1288], requires_grad=True)]"
            ]
          },
          "metadata": {},
          "execution_count": 88
        }
      ]
    },
    {
      "cell_type": "code",
      "source": [
        "# List named parameters\n",
        "model_0.state_dict()"
      ],
      "metadata": {
        "colab": {
          "base_uri": "https://localhost:8080/"
        },
        "id": "S0uFn5CPzOUV",
        "outputId": "426c9ab6-798d-4eb8-dfd1-a942d4c9d400"
      },
      "execution_count": null,
      "outputs": [
        {
          "output_type": "execute_result",
          "data": {
            "text/plain": [
              "OrderedDict([('weights', tensor([0.3367])), ('bias', tensor([0.1288]))])"
            ]
          },
          "metadata": {},
          "execution_count": 70
        }
      ]
    },
    {
      "cell_type": "markdown",
      "source": [
        "### Makin predictions using `torch.inference_mode()`"
      ],
      "metadata": {
        "id": "9jBfEFef9wjL"
      }
    },
    {
      "cell_type": "code",
      "source": [
        "# Make predictions with model\n",
        "with torch.inference_mode():\n",
        "    y_preds = model_0(X_test)\n",
        "\n",
        "# Note: in older PyTorch code you might also see torch.no_grad()\n",
        "# with torch.no_grad():\n",
        "#   y_preds = model_0(X_test)"
      ],
      "metadata": {
        "id": "Md6e_htBzOR2"
      },
      "execution_count": null,
      "outputs": []
    },
    {
      "cell_type": "code",
      "source": [
        "# Check the predictions\n",
        "print(f\"Number of testing samples: {len(X_test)}\")\n",
        "print(f\"Number of predictions made: {len(y_preds)}\")\n",
        "print(f\"Predited values:\\n{y_preds}\")"
      ],
      "metadata": {
        "colab": {
          "base_uri": "https://localhost:8080/"
        },
        "id": "6RhT30sozOPc",
        "outputId": "846a7c8e-ff7c-4a95-90d9-29ebc6384685"
      },
      "execution_count": null,
      "outputs": [
        {
          "output_type": "stream",
          "name": "stdout",
          "text": [
            "Number of testing samples: 10\n",
            "Number of predictions made: 10\n",
            "Predited values:\n",
            "tensor([[0.3982],\n",
            "        [0.4049],\n",
            "        [0.4116],\n",
            "        [0.4184],\n",
            "        [0.4251],\n",
            "        [0.4318],\n",
            "        [0.4386],\n",
            "        [0.4453],\n",
            "        [0.4520],\n",
            "        [0.4588]])\n"
          ]
        }
      ]
    },
    {
      "cell_type": "code",
      "source": [
        "# Plot predictions result\n",
        "plot_predictions(predictions=y_preds)"
      ],
      "metadata": {
        "colab": {
          "base_uri": "https://localhost:8080/",
          "height": 599
        },
        "id": "DgC_f1J1zOMq",
        "outputId": "f0487111-70a2-4727-f604-6ba1d2e4bd06"
      },
      "execution_count": null,
      "outputs": [
        {
          "output_type": "display_data",
          "data": {
            "text/plain": [
              "<Figure size 1000x700 with 1 Axes>"
            ],
            "image/png": "[encoded data removed]"
          },
          "metadata": {}
        }
      ]
    },
    {
      "cell_type": "code",
      "source": [
        "y_test - y_preds"
      ],
      "metadata": {
        "colab": {
          "base_uri": "https://localhost:8080/"
        },
        "id": "tmimv-wGzOJ_",
        "outputId": "9aa912ee-2bf2-4256-c321-4f5347faea76"
      },
      "execution_count": null,
      "outputs": [
        {
          "output_type": "execute_result",
          "data": {
            "text/plain": [
              "tensor([[0.4618],\n",
              "        [0.4691],\n",
              "        [0.4764],\n",
              "        [0.4836],\n",
              "        [0.4909],\n",
              "        [0.4982],\n",
              "        [0.5054],\n",
              "        [0.5127],\n",
              "        [0.5200],\n",
              "        [0.5272]])"
            ]
          },
          "metadata": {},
          "execution_count": 74
        }
      ]
    },
    {
      "cell_type": "markdown",
      "source": [
        "## 3. Train model"
      ],
      "metadata": {
        "id": "iSpWfUnBB38U"
      }
    },
    {
      "cell_type": "markdown",
      "source": [
        "#### Creating a loss function and optimizer in PyTorch"
      ],
      "metadata": {
        "id": "QsuHtD3TB601"
      }
    },
    {
      "cell_type": "markdown",
      "source": [
        "| Function | What does it do? | Where does it live in PyTorch? | Common values |\n",
        "| -------- | ---------------- | ------------------------------ | ------------- |\n",
        "| loss function | Measure how wrong your models predictions (e.g. `y_preds`) are compared to the truth labels (e.g. `y_test`). Lower the better. | PyTorch has plenty of built-in loss functions in `torch.nn`. | Mean absolute error (MAE) for regression problems (`torch.nn.L1Loss()`). Binary cross entropy for binary classification problems (`torch.nn.BCELoss()`). |\n",
        "| Optimizer | Tells your model how to update its internal parameters to best lower the loss. | You can find various optimization function implementations in `torch.optim`. | Stochastic gradient descent (`torch.optim.SGD()`). Adam optimizer (`torch.optim.Adam()`). |"
      ],
      "metadata": {
        "id": "mIYznjWeCkf1"
      }
    },
    {
      "cell_type": "code",
      "source": [
        "# Create the loss function\n",
        "loss_fn = nn.L1Loss()  # MAE loss is same as L1Loss\n",
        "\n",
        "# Create the optimizer\n",
        "optimizer = torch.optim.SGD(params=model_0.parameters(),  # parameters of target model to optimize\n",
        "                            lr=0.01)  # learning rate (how much the optimizer should change parameters at each step,\n",
        "                                      # higher=more (less stable), lower=less (might take a long time))"
      ],
      "metadata": {
        "id": "zUzBe8-1zOHa"
      },
      "execution_count": null,
      "outputs": []
    },
    {
      "cell_type": "markdown",
      "source": [
        "### Creating an optimization loop in PyTorch"
      ],
      "metadata": {
        "id": "fCGgpqjzFzeb"
      }
    },
    {
      "cell_type": "markdown",
      "source": [
        "#### PyTorch training loop"
      ],
      "metadata": {
        "id": "00FaJU1zGGiD"
      }
    },
    {
      "cell_type": "markdown",
      "source": [
        "For the training loop, we'll build the following steps:\n",
        "\n",
        "| Number | Step name | What does id do? | Code example |\n",
        "| ------ | --------- | ---------------- | ------------ |\n",
        "| 1 | Forward pass | The model goes through all of the training data once, performing its `forward()` function calculations. | `model(X_train)` |\n",
        "| 2 | Calculate the loss | The model's outputs (predictions) are compared to the ground truth and evaluated to see how wrong they are. | `loss = loss_fn(y_red, y_train)` |\n",
        "| 3 | Zero gradients | The optimizers gradients are set to zero (they are accumulated by default) so they can be recalculated for the specific training step. | `optimizer.zero_grad()` |\n",
        "| 4 | Perform backpropagation on the loss | Computes the gradient of the loss with respect for every model parameter to be updated (each parameter with `requires_grad=True`). This is known as **backpropagation**, hence *backwards*. | `loss.backward()` |\n",
        "| 5 | Update the optimizer (**gradient descent**) | Update the parameters with `requires_grad=True` with respect to the loss gradients in order to improve them. | `optimizer.step()` |\n",
        "\n",
        "![](https://raw.githubusercontent.com/mrdbourke/pytorch-deep-learning/main/images/01-pytorch-training-loop-annotated.png)"
      ],
      "metadata": {
        "id": "jjlFcfdvJDPZ"
      }
    },
    {
      "cell_type": "markdown",
      "source": [
        "#### PyTorch testing loop"
      ],
      "metadata": {
        "id": "GYPFZTRpGKBB"
      }
    },
    {
      "cell_type": "markdown",
      "source": [
        "As for the testing loop (evaluating our model), the typical steps include:\n",
        "\n",
        "| Number | Step name | What does it do? | Code example |\n",
        "| ------ | --------- | ---------------- | ------------ |\n",
        "| 1 | Forward pass | The model goes through all of the training data once, performing its `forward()` function calculations. | `model(X_test)` |\n",
        "| 2 | Calculate the loss | The model's outputs (predictions) are compared to the ground truth and evaluated to see how wrong they are. | `loss = loss_fn(y_pred, y_test)` |\n",
        "| 3 | Calculate evaluation metrics (optional) | Alongside the loss value you may want to calculate other evaluation metrics such as accuracy on the test set. | Custom functions |\n",
        "\n",
        "![](https://raw.githubusercontent.com/mrdbourke/pytorch-deep-learning/main/images/01-pytorch-testing-loop-annotated.png)"
      ],
      "metadata": {
        "id": "mB-KKDzFMbSk"
      }
    },
    {
      "cell_type": "markdown",
      "source": [
        "#### Put all of the above together"
      ],
      "metadata": {
        "id": "nwDvIhO9Mb_Y"
      }
    },
    {
      "cell_type": "code",
      "source": [
        "torch.manual_seed(42)\n",
        "\n",
        "# Set the number of epochs (how many times the model will pass over the training data)\n",
        "epochs = 100\n",
        "\n",
        "# Create empty loss lists to track values\n",
        "train_loss_values = []\n",
        "test_loss_values = []\n",
        "epoch_count = []\n",
        "\n",
        "for epoch in range(epochs):\n",
        "    ### Training\n",
        "\n",
        "    # Put model in training mode (this is the default state of a model)\n",
        "    model_0.train()\n",
        "\n",
        "    # 1. Forward pass on train data using the forward() method inside\n",
        "    y_pred = model_0(X_train)\n",
        "    # print(y_pred)\n",
        "\n",
        "    # 2. Calculate the loss (how different are our models predictions to the ground truth)\n",
        "    loss = loss_fn (y_pred, y_train)\n",
        "\n",
        "    # 3. Zero grad of the optimizer\n",
        "    optimizer.zero_grad()\n",
        "\n",
        "    # 4. Loss backwards\n",
        "    loss.backward()\n",
        "\n",
        "    # 5. Progress the optimizer\n",
        "    optimizer.step()\n",
        "\n",
        "    ### Testing\n",
        "\n",
        "    # Put the model in evaluation mode\n",
        "    model_0.eval()\n",
        "\n",
        "    with torch.inference_mode():\n",
        "        # 1. Forward pass on test data\n",
        "        test_pred = model_0(X_test)\n",
        "\n",
        "        # 2. Calculate loss on test data\n",
        "        test_loss = loss_fn(test_pred, y_test.type(torch.float))  # predictions come in torch.float datatype,\n",
        "                                                                  # so comparisons need to be done with tensors of the same type\n",
        "    # Print out what's happening\n",
        "    if epoch % 10 == 0:\n",
        "        epoch_count.append(epoch)\n",
        "        train_loss_values.append(loss.detach().numpy())\n",
        "        test_loss_values.append(test_loss.detach().numpy())\n",
        "\n",
        "        print(f\"Epoch: {epoch} | MAE Train Loss: {loss:.4f} | MAE Test Loss: {test_loss:.4f}\")"
      ],
      "metadata": {
        "colab": {
          "base_uri": "https://localhost:8080/"
        },
        "id": "jC_QIZFrzOCm",
        "outputId": "1bdd4136-b22c-4539-f817-0f6c37e73ed8"
      },
      "execution_count": null,
      "outputs": [
        {
          "output_type": "stream",
          "name": "stdout",
          "text": [
            "Epoch: 0 | MAE Train Loss: 0.3129 | MAE Test Loss: 0.4811\n",
            "Epoch: 10 | MAE Train Loss: 0.1977 | MAE Test Loss: 0.3464\n",
            "Epoch: 20 | MAE Train Loss: 0.0891 | MAE Test Loss: 0.2173\n",
            "Epoch: 30 | MAE Train Loss: 0.0531 | MAE Test Loss: 0.1446\n",
            "Epoch: 40 | MAE Train Loss: 0.0454 | MAE Test Loss: 0.1136\n",
            "Epoch: 50 | MAE Train Loss: 0.0417 | MAE Test Loss: 0.0992\n",
            "Epoch: 60 | MAE Train Loss: 0.0382 | MAE Test Loss: 0.0889\n",
            "Epoch: 70 | MAE Train Loss: 0.0348 | MAE Test Loss: 0.0806\n",
            "Epoch: 80 | MAE Train Loss: 0.0313 | MAE Test Loss: 0.0723\n",
            "Epoch: 90 | MAE Train Loss: 0.0279 | MAE Test Loss: 0.0647\n"
          ]
        }
      ]
    },
    {
      "cell_type": "code",
      "source": [
        "# Plot the loss curves\n",
        "plt.plot(epoch_count, train_loss_values, label=\"Train loss\")\n",
        "plt.plot(epoch_count, test_loss_values, label=\"Test loss\")\n",
        "\n",
        "plt.title(\"Training and Test loss curves\")\n",
        "plt.ylabel(\"Loss\")\n",
        "plt.xlabel(\"Epochs\")\n",
        "plt.legend()"
      ],
      "metadata": {
        "colab": {
          "base_uri": "https://localhost:8080/",
          "height": 491
        },
        "id": "pBkCjyzYzOAG",
        "outputId": "a41df62d-9e09-4437-e134-7ad26b629262"
      },
      "execution_count": null,
      "outputs": [
        {
          "output_type": "execute_result",
          "data": {
            "text/plain": [
              "<matplotlib.legend.Legend at 0x7fa6f617fc70>"
            ]
          },
          "metadata": {},
          "execution_count": 84
        },
        {
          "output_type": "display_data",
          "data": {
            "text/plain": [
              "<Figure size 640x480 with 1 Axes>"
            ],
            "image/png": "[encoded data removed]"
          },
          "metadata": {}
        }
      ]
    },
    {
      "cell_type": "code",
      "source": [
        "# Find our model's learned parameters\n",
        "print(\"The model learned the following values for weights and bias:\")\n",
        "print(model_0.state_dict())\n",
        "print(\"\\nAnd the original values for weights and bias are:\")\n",
        "print(f\"weights: {weight}, bias: {bias}\")"
      ],
      "metadata": {
        "colab": {
          "base_uri": "https://localhost:8080/"
        },
        "id": "GPgdVuWNzN9y",
        "outputId": "21bda158-1423-40c7-a985-43e23820fd98"
      },
      "execution_count": null,
      "outputs": [
        {
          "output_type": "stream",
          "name": "stdout",
          "text": [
            "The model learned the following values for weights and bias:\n",
            "OrderedDict([('weights', tensor([0.5784])), ('bias', tensor([0.3513]))])\n",
            "\n",
            "And the original values for weights and bias are:\n",
            "weights: 0.7, bias: 0.3\n"
          ]
        }
      ]
    },
    {
      "cell_type": "markdown",
      "source": [
        "### Exercise"
      ],
      "metadata": {
        "id": "hDunJkjmVzb_"
      }
    },
    {
      "cell_type": "code",
      "source": [
        "torch.manual_seed(42)\n",
        "\n",
        "# Initialise new model object\n",
        "model_0 = LinearRegressionModel()"
      ],
      "metadata": {
        "id": "PsvzlHAfZrKM"
      },
      "execution_count": null,
      "outputs": []
    },
    {
      "cell_type": "code",
      "source": [
        "# Create the loss function\n",
        "loss_fn = nn.L1Loss()  # MAE loss is same as L1Loss\n",
        "\n",
        "# Create the optimizer\n",
        "optimizer = torch.optim.SGD(params=model_0.parameters(),  # parameters of target model to optimize\n",
        "                            lr=0.01)"
      ],
      "metadata": {
        "id": "ElkC8GwxaEeL"
      },
      "execution_count": null,
      "outputs": []
    },
    {
      "cell_type": "code",
      "source": [
        "torch.manual_seed(42)\n",
        "\n",
        "# Set the number of epochs\n",
        "epochs = 200\n",
        "\n",
        "# Create empty loss lists to track values\n",
        "train_loss_values = []\n",
        "test_loss_values = []\n",
        "epoch_count = []\n",
        "\n",
        "for epoch in range(epochs):\n",
        "    ### Trainig\n",
        "\n",
        "    # Put model in training mode\n",
        "    model_0.train()\n",
        "\n",
        "    # Forward pass on train data using model's forward() method\n",
        "    y_pred = model_0(X_train)\n",
        "\n",
        "    # Calculate the loss\n",
        "    loss = loss_fn(y_pred, y_train)\n",
        "\n",
        "    # Put Zero's to gradients of the optimizer for every epoch\n",
        "    optimizer.zero_grad()\n",
        "\n",
        "    # Loss backwards\n",
        "    loss.backward()\n",
        "\n",
        "    # Progress the optimizer\n",
        "    optimizer.step()\n",
        "\n",
        "    ### Testing\n",
        "\n",
        "    # Put the model in evaluation mode\n",
        "    model_0.eval()\n",
        "\n",
        "    with torch.inference_mode():\n",
        "        # Forward pass on test data\n",
        "        test_pred = model_0(X_test)\n",
        "\n",
        "        # Calculate loss on test data\n",
        "        test_loss = loss_fn(test_pred, y_test.type(torch.float))\n",
        "\n",
        "    # Print out what's happening\n",
        "    if epoch % 10 == 0:\n",
        "        epoch_count.append(epoch)\n",
        "        train_loss_values.append(loss.detach().numpy())\n",
        "        test_loss_values.append(test_loss.detach().numpy())\n",
        "\n",
        "        print(f\"Epoch: {epoch} | MAE Train Loss: {loss} | MAE Test Loss: {test_loss}\")"
      ],
      "metadata": {
        "colab": {
          "base_uri": "https://localhost:8080/"
        },
        "id": "tpl-cYvTzN7N",
        "outputId": "2f8ff2d7-6258-46c7-d115-063b6a3dbbd3"
      },
      "execution_count": null,
      "outputs": [
        {
          "output_type": "stream",
          "name": "stdout",
          "text": [
            "Epoch: 0 | MAE Train Loss: 0.31288138031959534 | MAE Test Loss: 0.48106518387794495\n",
            "Epoch: 10 | MAE Train Loss: 0.1976713240146637 | MAE Test Loss: 0.3463551998138428\n",
            "Epoch: 20 | MAE Train Loss: 0.08908725529909134 | MAE Test Loss: 0.21729660034179688\n",
            "Epoch: 30 | MAE Train Loss: 0.053148526698350906 | MAE Test Loss: 0.14464017748832703\n",
            "Epoch: 40 | MAE Train Loss: 0.04543796554207802 | MAE Test Loss: 0.11360953003168106\n",
            "Epoch: 50 | MAE Train Loss: 0.04167863354086876 | MAE Test Loss: 0.09919948130846024\n",
            "Epoch: 60 | MAE Train Loss: 0.03818932920694351 | MAE Test Loss: 0.08886633068323135\n",
            "Epoch: 70 | MAE Train Loss: 0.03476089984178543 | MAE Test Loss: 0.0805937647819519\n",
            "Epoch: 80 | MAE Train Loss: 0.03132382780313492 | MAE Test Loss: 0.07232122868299484\n",
            "Epoch: 90 | MAE Train Loss: 0.02788739837706089 | MAE Test Loss: 0.06473556160926819\n",
            "Epoch: 100 | MAE Train Loss: 0.024458957836031914 | MAE Test Loss: 0.05646304413676262\n",
            "Epoch: 110 | MAE Train Loss: 0.021020207554101944 | MAE Test Loss: 0.04819049686193466\n",
            "Epoch: 120 | MAE Train Loss: 0.01758546568453312 | MAE Test Loss: 0.04060482233762741\n",
            "Epoch: 130 | MAE Train Loss: 0.014155393466353416 | MAE Test Loss: 0.03233227878808975\n",
            "Epoch: 140 | MAE Train Loss: 0.010716589167714119 | MAE Test Loss: 0.024059748277068138\n",
            "Epoch: 150 | MAE Train Loss: 0.0072835334576666355 | MAE Test Loss: 0.016474086791276932\n",
            "Epoch: 160 | MAE Train Loss: 0.0038517764769494534 | MAE Test Loss: 0.008201557211577892\n",
            "Epoch: 170 | MAE Train Loss: 0.008932482451200485 | MAE Test Loss: 0.005023092031478882\n",
            "Epoch: 180 | MAE Train Loss: 0.008932482451200485 | MAE Test Loss: 0.005023092031478882\n",
            "Epoch: 190 | MAE Train Loss: 0.008932482451200485 | MAE Test Loss: 0.005023092031478882\n"
          ]
        }
      ]
    },
    {
      "cell_type": "code",
      "source": [
        "# Plot the loss curves for the model that trained on 200 epochs\n",
        "plt.plot(epoch_count, train_loss_values, label=\"Train loss\")\n",
        "plt.plot(epoch_count, test_loss_values, label=\"Test loss\")\n",
        "\n",
        "plt.title(\"Training and Test loss curves on 200 epochs\")\n",
        "plt.ylabel(\"Loss\")\n",
        "plt.xlabel(\"Epochs\")\n",
        "plt.legend()"
      ],
      "metadata": {
        "colab": {
          "base_uri": "https://localhost:8080/",
          "height": 491
        },
        "id": "vfFdRv0-zN4z",
        "outputId": "6e31cd43-3a89-4e88-9a6f-9bf00549e6d6"
      },
      "execution_count": null,
      "outputs": [
        {
          "output_type": "execute_result",
          "data": {
            "text/plain": [
              "<matplotlib.legend.Legend at 0x7f29044ab490>"
            ]
          },
          "metadata": {},
          "execution_count": 33
        },
        {
          "output_type": "display_data",
          "data": {
            "text/plain": [
              "<Figure size 640x480 with 1 Axes>"
            ],
            "image/png": "[encoded data removed]"
          },
          "metadata": {}
        }
      ]
    },
    {
      "cell_type": "code",
      "source": [
        "# View on results of trainig on 200 epochs\n",
        "print(\"The model learned the following values for weights and bias:\")\n",
        "print(model_0.state_dict())\n",
        "print(\"\\nAnd the original values for weights and bias are:\")\n",
        "print(f\"weights: {weight}, bias: {bias}\")"
      ],
      "metadata": {
        "colab": {
          "base_uri": "https://localhost:8080/"
        },
        "id": "ZH6_2oFBYP6F",
        "outputId": "e82ebc07-7962-451f-f5ed-fb04f1d61325"
      },
      "execution_count": null,
      "outputs": [
        {
          "output_type": "stream",
          "name": "stdout",
          "text": [
            "The model learned the following values for weights and bias:\n",
            "OrderedDict([('weights', tensor([0.6990])), ('bias', tensor([0.3093]))])\n",
            "\n",
            "And the original values for weights and bias are:\n",
            "weights: 0.7, bias: 0.3\n"
          ]
        }
      ]
    },
    {
      "cell_type": "markdown",
      "source": [
        "#### Conclusion\n",
        "In the result, that model learned pattern much better than with 100 epochs."
      ],
      "metadata": {
        "id": "299uaXCO6B31"
      }
    },
    {
      "cell_type": "markdown",
      "source": [
        "## 4. Making predictions with a trained PyTorch model (inference)"
      ],
      "metadata": {
        "id": "mXWu4-eFYNga"
      }
    },
    {
      "cell_type": "markdown",
      "source": [
        "There are three things to remember when making predictions (also called performing inference) with a PyTorch model:\n",
        "1. Set the model in evaluation mode (`model.eval()`)\n",
        "2. Make the predictions using the inference mode context manager (`with torch.inference_mode(): ....`).\n",
        "3. All predictions should be made with objects on the same device (e.g. data and model on GPU only or data and model on CPU only)."
      ],
      "metadata": {
        "id": "ccbAxU7x7EvN"
      }
    },
    {
      "cell_type": "code",
      "source": [
        "# 1. Set the model in evaluation mode\n",
        "model_0.eval()\n",
        "\n",
        "# 2. Setup the inference mode context manager\n",
        "with torch.inference_mode():\n",
        "    # 3. Make sure the calculations are done with the model and data on the same device\n",
        "    # in our case, we haven't setup device-agnostic code yet so our data and model are\n",
        "    # on the CPU by default.\n",
        "    # model_0.to(device)\n",
        "    # X_test = X_test.to(device)\n",
        "    y_preds = model_0(X_test)\n",
        "\n",
        "y_preds"
      ],
      "metadata": {
        "id": "9K3UxqWnzOE9",
        "colab": {
          "base_uri": "https://localhost:8080/"
        },
        "outputId": "6f735925-5089-4199-ead2-bb9aff2ae4e1"
      },
      "execution_count": null,
      "outputs": [
        {
          "output_type": "execute_result",
          "data": {
            "text/plain": [
              "tensor([[0.8141],\n",
              "        [0.8256],\n",
              "        [0.8372],\n",
              "        [0.8488],\n",
              "        [0.8603],\n",
              "        [0.8719],\n",
              "        [0.8835],\n",
              "        [0.8950],\n",
              "        [0.9066],\n",
              "        [0.9182]])"
            ]
          },
          "metadata": {},
          "execution_count": 91
        }
      ]
    },
    {
      "cell_type": "code",
      "source": [
        "# Plot our predictions results\n",
        "plot_predictions(predictions=y_preds)"
      ],
      "metadata": {
        "id": "McO0ri7czN20",
        "colab": {
          "base_uri": "https://localhost:8080/",
          "height": 599
        },
        "outputId": "b59b726c-4659-4463-ce4c-30ac614c5add"
      },
      "execution_count": null,
      "outputs": [
        {
          "output_type": "display_data",
          "data": {
            "text/plain": [
              "<Figure size 1000x700 with 1 Axes>"
            ],
            "image/png": "[encoded data removed]"
          },
          "metadata": {}
        }
      ]
    },
    {
      "cell_type": "markdown",
      "source": [
        "## 5. Saving and loading a PyTorch model"
      ],
      "metadata": {
        "id": "C4TW-72c8lTr"
      }
    },
    {
      "cell_type": "markdown",
      "source": [
        "For saving and loading models in PyTorch, there are three main methods you should be aware of:\n",
        "\n",
        "| PyTorch method | What does it do? |\n",
        "| -------------- | ---------------- |\n",
        "| `torch.save` | Save a serialized object to disk using Python's `pickle` utility. Models, tensors and various other Python objects like dictionaries can be saved using `torch.save`. |\n",
        "| `torch.load` | Uses `pickle`'s unpickling features to deserialize and load pickled Python object files (like models, tensors or dictionaries) into memory. You can also set which device to load the object to (CPU, GPU, etc). |\n",
        "| `torch.nn.Model.load_state_dict` | Loads model's parameter dictionary (`model.state_dict()`) using a saved `state_dict()` object. |"
      ],
      "metadata": {
        "id": "2c_hyfAr9Aoq"
      }
    },
    {
      "cell_type": "markdown",
      "source": [
        "### Saving a PyTorch model's `state_dict()`"
      ],
      "metadata": {
        "id": "DPMw-zVa-MRD"
      }
    },
    {
      "cell_type": "code",
      "source": [
        "from pathlib import Path\n",
        "\n",
        "# 1. Create models directory\n",
        "MODEL_PATH = Path(\"models\")\n",
        "MODEL_PATH.mkdir(parents=True, exist_ok=True)\n",
        "\n",
        "# 2. Create model save path\n",
        "MODEL_NAME = \"01_pytorch_workflow_model_0.pth\"\n",
        "MODEL_SAVE_PATH = MODEL_PATH / MODEL_NAME\n",
        "\n",
        "# 3. Save the model state dict\n",
        "print(f\"Saving model to: {MODEL_SAVE_PATH}\")\n",
        "torch.save(obj=model_0.state_dict(),  # only saving the state_dict() only saves the models learned parameters\n",
        "           f=MODEL_SAVE_PATH)"
      ],
      "metadata": {
        "id": "lDiWB4t7zN0n",
        "colab": {
          "base_uri": "https://localhost:8080/"
        },
        "outputId": "d9e9ad12-1a22-4145-b6af-0abe394f7171"
      },
      "execution_count": null,
      "outputs": [
        {
          "output_type": "stream",
          "name": "stdout",
          "text": [
            "Saving model to: models/01_pytorch_workflow_model_0.pth\n"
          ]
        }
      ]
    },
    {
      "cell_type": "code",
      "source": [
        "# Check the saved file path\n",
        "!ls -l models/01_pytorch_workflow_model_0.pth"
      ],
      "metadata": {
        "id": "x8c24EGFzNyI",
        "colab": {
          "base_uri": "https://localhost:8080/"
        },
        "outputId": "0cdbd0a5-3a3e-4b16-c62d-55f2277b6814"
      },
      "execution_count": null,
      "outputs": [
        {
          "output_type": "stream",
          "name": "stdout",
          "text": [
            "-rw-r--r-- 1 root root 1207 Jul  1 06:59 models/01_pytorch_workflow_model_0.pth\n"
          ]
        }
      ]
    },
    {
      "cell_type": "markdown",
      "source": [
        "### Loading a saved PyTorch model's `state_dict()`"
      ],
      "metadata": {
        "id": "VT6Uf0Cs_b9K"
      }
    },
    {
      "cell_type": "code",
      "source": [
        "# Instantiate a new instance of our model (this will be instantiated with random weights)\n",
        "loaded_model_0 = LinearRegressionModel()\n",
        "\n",
        "# Load the state_dict of our saved model (this will update the new instance of our model with trained weights)\n",
        "loaded_model_0.load_state_dict(torch.load(f=MODEL_SAVE_PATH))"
      ],
      "metadata": {
        "id": "qMwnKsv4zNvb",
        "colab": {
          "base_uri": "https://localhost:8080/"
        },
        "outputId": "a4466eef-7eac-4804-dbb9-1442d0e125a3"
      },
      "execution_count": null,
      "outputs": [
        {
          "output_type": "execute_result",
          "data": {
            "text/plain": [
              "<All keys matched successfully>"
            ]
          },
          "metadata": {},
          "execution_count": 98
        }
      ]
    },
    {
      "cell_type": "code",
      "source": [
        "# 1. Put the loaded model into evaluation mode\n",
        "loaded_model_0.eval()\n",
        "\n",
        "# 2. Use the inference mode context manager to make predictions\n",
        "with torch.inference_mode():\n",
        "    loaded_model_preds = loaded_model_0(X_test)  # perform a forward pass on the test data with the loaded model"
      ],
      "metadata": {
        "id": "8dhCqX5CzNtD"
      },
      "execution_count": null,
      "outputs": []
    },
    {
      "cell_type": "code",
      "source": [
        "# Compare previous model predictions with loaded model predictions (these should be the same)\n",
        "y_preds == loaded_model_preds"
      ],
      "metadata": {
        "id": "50PKhNzhzNqn",
        "colab": {
          "base_uri": "https://localhost:8080/"
        },
        "outputId": "97677846-a5b0-4671-9970-a2ab123bb55f"
      },
      "execution_count": null,
      "outputs": [
        {
          "output_type": "execute_result",
          "data": {
            "text/plain": [
              "tensor([[True],\n",
              "        [True],\n",
              "        [True],\n",
              "        [True],\n",
              "        [True],\n",
              "        [True],\n",
              "        [True],\n",
              "        [True],\n",
              "        [True],\n",
              "        [True]])"
            ]
          },
          "metadata": {},
          "execution_count": 100
        }
      ]
    },
    {
      "cell_type": "markdown",
      "source": [
        "## 6. Putting it all together"
      ],
      "metadata": {
        "id": "6DFMcxBHCGpY"
      }
    },
    {
      "cell_type": "code",
      "source": [
        "# Import necessary libraries\n",
        "import torch\n",
        "from torch import nn  # nn contains all of PyTorch's building block for neural networks\n",
        "import matplotlib.pyplot as plt\n",
        "\n",
        "# Check PyTorch version\n",
        "torch.__version__"
      ],
      "metadata": {
        "id": "f9LXLoZyzNoN",
        "colab": {
          "base_uri": "https://localhost:8080/",
          "height": 36
        },
        "outputId": "3c7e22f7-53f0-42e1-e554-631c6cca4065"
      },
      "execution_count": null,
      "outputs": [
        {
          "output_type": "execute_result",
          "data": {
            "text/plain": [
              "'2.0.1+cu118'"
            ],
            "application/vnd.google.colaboratory.intrinsic+json": {
              "type": "string"
            }
          },
          "metadata": {},
          "execution_count": 101
        }
      ]
    },
    {
      "cell_type": "code",
      "source": [
        "# Setup device agnostic code\n",
        "device = \"cuda\" if torch.cuda.is_available() else \"cpu\"\n",
        "print(f\"Using device: {device}\")"
      ],
      "metadata": {
        "id": "FvzHgX3CzNl5",
        "colab": {
          "base_uri": "https://localhost:8080/"
        },
        "outputId": "fa239b62-7d8a-4495-bb47-b97e414d77dd"
      },
      "execution_count": null,
      "outputs": [
        {
          "output_type": "stream",
          "name": "stdout",
          "text": [
            "Using device: cuda\n"
          ]
        }
      ]
    },
    {
      "cell_type": "markdown",
      "source": [
        "### 6.1 Data"
      ],
      "metadata": {
        "id": "ajeDTDCAEVmq"
      }
    },
    {
      "cell_type": "code",
      "source": [
        "# Create weight and bias\n",
        "weight = 0.7\n",
        "bias = 0.3\n",
        "\n",
        "# Create range values\n",
        "start = 0\n",
        "end = 1\n",
        "step = 0.02\n",
        "\n",
        "# Create X and y (features and labels)\n",
        "X = torch.arange(start, end, step).unsqueeze(dim=1)  # without unsqueeze, errors will happen later on (shapes within linear layers)\n",
        "y = weight * X + bias\n",
        "X[:10], y[:10]"
      ],
      "metadata": {
        "id": "kjKA_1R3zNjQ",
        "colab": {
          "base_uri": "https://localhost:8080/"
        },
        "outputId": "496ffb28-7d38-4d0c-b191-98f2d74bbca6"
      },
      "execution_count": null,
      "outputs": [
        {
          "output_type": "execute_result",
          "data": {
            "text/plain": [
              "(tensor([[0.0000],\n",
              "         [0.0200],\n",
              "         [0.0400],\n",
              "         [0.0600],\n",
              "         [0.0800],\n",
              "         [0.1000],\n",
              "         [0.1200],\n",
              "         [0.1400],\n",
              "         [0.1600],\n",
              "         [0.1800]]),\n",
              " tensor([[0.3000],\n",
              "         [0.3140],\n",
              "         [0.3280],\n",
              "         [0.3420],\n",
              "         [0.3560],\n",
              "         [0.3700],\n",
              "         [0.3840],\n",
              "         [0.3980],\n",
              "         [0.4120],\n",
              "         [0.4260]]))"
            ]
          },
          "metadata": {},
          "execution_count": 106
        }
      ]
    },
    {
      "cell_type": "code",
      "source": [
        "# Split data\n",
        "train_split = int(0.8 * len(X))\n",
        "X_train, y_train = X[:train_split], y[:train_split]\n",
        "X_test, y_test  = X[train_split:], y[train_split:]\n",
        "\n",
        "len(X_train), len(y_train), len(X_test), len(y_test)"
      ],
      "metadata": {
        "id": "cnYB90Q8zNgq",
        "colab": {
          "base_uri": "https://localhost:8080/"
        },
        "outputId": "018a94ac-e67f-4f07-eee1-f6fd6f2d0439"
      },
      "execution_count": null,
      "outputs": [
        {
          "output_type": "execute_result",
          "data": {
            "text/plain": [
              "(40, 40, 10, 10)"
            ]
          },
          "metadata": {},
          "execution_count": 107
        }
      ]
    },
    {
      "cell_type": "code",
      "source": [
        "# Note: If you're reset your runtime, this function won't work,\n",
        "# you'll have to return the cell above where it's instantiated.\n",
        "plot_predictions(X_train, y_train, X_test, y_test)"
      ],
      "metadata": {
        "id": "Ss9qDmXkzNeZ",
        "colab": {
          "base_uri": "https://localhost:8080/",
          "height": 599
        },
        "outputId": "847f1d30-a5e5-44f8-89b6-21d6404c9905"
      },
      "execution_count": null,
      "outputs": [
        {
          "output_type": "display_data",
          "data": {
            "text/plain": [
              "<Figure size 1000x700 with 1 Axes>"
            ],
            "image/png": "[encoded data removed]"
          },
          "metadata": {}
        }
      ]
    },
    {
      "cell_type": "markdown",
      "source": [
        "### 6.2 Buildin a PyTorch linear model"
      ],
      "metadata": {
        "id": "qEec0ik8FlWX"
      }
    },
    {
      "cell_type": "code",
      "source": [
        "# Subclass nn.Module to make our model\n",
        "class LinearRegressionModelV2(nn.Module):\n",
        "\n",
        "    def __init__(self):\n",
        "        super().__init__()\n",
        "        # Use nn.Linear() for creating the model parameters\n",
        "        self.linear_layer = nn.Linear(in_features=1,\n",
        "                                      out_features=1)\n",
        "\n",
        "    # Define the forward computation (input data x flows through nn.Linear())\n",
        "    def forward(self, x: torch.Tensor) -> torch.Tensor:\n",
        "        return self.linear_layer(x)"
      ],
      "metadata": {
        "id": "G7LBLacBzNcO"
      },
      "execution_count": null,
      "outputs": []
    },
    {
      "cell_type": "code",
      "source": [
        "# Set the manual seed when creating the model (this isn't always need but is used\n",
        "# for demonstrative purpose, try commenting it out and seeing what happens)\n",
        "torch.manual_seed(42)\n",
        "\n",
        "model_1 = LinearRegressionModelV2()\n",
        "model_1, model_1.state_dict()"
      ],
      "metadata": {
        "id": "XFx4ArM7zNZ0",
        "colab": {
          "base_uri": "https://localhost:8080/"
        },
        "outputId": "ef8491e1-3549-465c-adc6-9016b90eac40"
      },
      "execution_count": null,
      "outputs": [
        {
          "output_type": "execute_result",
          "data": {
            "text/plain": [
              "(LinearRegressionModelV2(\n",
              "   (linear_layer): Linear(in_features=1, out_features=1, bias=True)\n",
              " ),\n",
              " OrderedDict([('linear_layer.weight', tensor([[0.7645]])),\n",
              "              ('linear_layer.bias', tensor([0.8300]))]))"
            ]
          },
          "metadata": {},
          "execution_count": 112
        }
      ]
    },
    {
      "cell_type": "code",
      "source": [
        "# Check model device\n",
        "next(model_1.parameters()).device"
      ],
      "metadata": {
        "id": "otCQ7_hLzNX9",
        "colab": {
          "base_uri": "https://localhost:8080/"
        },
        "outputId": "1a4e7e1a-27f2-493f-db47-5a90f5d16c7c"
      },
      "execution_count": null,
      "outputs": [
        {
          "output_type": "execute_result",
          "data": {
            "text/plain": [
              "device(type='cpu')"
            ]
          },
          "metadata": {},
          "execution_count": 113
        }
      ]
    },
    {
      "cell_type": "code",
      "source": [
        "# Set model to GPU if it's available, otherwise it'll default to CPU\n",
        "model_1.to(device)  # the device variable was set above to be \"cuda\" if available or \"cpu\" if not\n",
        "next(model_1.parameters()).device"
      ],
      "metadata": {
        "id": "e3uGHnWCzNVn",
        "colab": {
          "base_uri": "https://localhost:8080/"
        },
        "outputId": "d89f239b-e65d-4593-cb6f-c9c75734a360"
      },
      "execution_count": null,
      "outputs": [
        {
          "output_type": "execute_result",
          "data": {
            "text/plain": [
              "device(type='cuda', index=0)"
            ]
          },
          "metadata": {},
          "execution_count": 114
        }
      ]
    },
    {
      "cell_type": "markdown",
      "source": [
        "### 6.3 Training"
      ],
      "metadata": {
        "id": "_0nMIvflHTyx"
      }
    },
    {
      "cell_type": "code",
      "source": [
        "# Create loss function\n",
        "loss_fn = nn.L1Loss()\n",
        "\n",
        "# Create optimizer\n",
        "optimizer = torch.optim.SGD(params=model_1.parameters(),  # optimize newly created model's parameters\n",
        "                            lr=0.01)"
      ],
      "metadata": {
        "id": "ifFzJp91MYYr"
      },
      "execution_count": null,
      "outputs": []
    },
    {
      "cell_type": "code",
      "source": [
        "torch.manual_seed(42)\n",
        "\n",
        "# Set the number of epochs\n",
        "epochs = 1000\n",
        "\n",
        "# Put data on the available device\n",
        "# Without this, erorr will happen (not all model/data on device)\n",
        "X_train = X_train.to(device)\n",
        "X_test = X_test.to(device)\n",
        "y_train = y_train.to(device)\n",
        "y_test = y_test.to(device)"
      ],
      "metadata": {
        "id": "y2YaQ9M5MYWa"
      },
      "execution_count": null,
      "outputs": []
    },
    {
      "cell_type": "code",
      "source": [
        "for epoch in range(epochs):\n",
        "    ### Training\n",
        "    model_1.train()  # train mode is on by default after construction\n",
        "\n",
        "    # 1. Forward pass\n",
        "    y_preds = model_1(X_train)\n",
        "\n",
        "    # 2. Calculate loss\n",
        "    loss = loss_fn(y_preds, y_train)\n",
        "\n",
        "    # 3. Zero grad optimizer\n",
        "    optimizer.zero_grad()\n",
        "\n",
        "    # 4. Loss backward\n",
        "    loss.backward()\n",
        "\n",
        "    # 5. Step the optimizer\n",
        "    optimizer.step()\n",
        "\n",
        "    ### Testing\n",
        "    model_1.eval()  # put the model in evaluation mode for testing (inference)\n",
        "    # 1. Forward pass\n",
        "    with torch.inference_mode():\n",
        "        test_preds = model_1(X_test)\n",
        "\n",
        "        # 2. Calculate the loss\n",
        "        test_loss = loss_fn(test_preds, y_test)\n",
        "\n",
        "    if epoch % 100 == 0:\n",
        "        print(f\"Epoch: {epoch} | Train Loss: {loss} | Test Loss: {test_loss}\")"
      ],
      "metadata": {
        "id": "pIzTFXAcMYUE",
        "colab": {
          "base_uri": "https://localhost:8080/"
        },
        "outputId": "1a82ffa2-589f-4fe5-984b-8fc824a0955d"
      },
      "execution_count": null,
      "outputs": [
        {
          "output_type": "stream",
          "name": "stdout",
          "text": [
            "Epoch: 0 | Train Loss: 0.5551779866218567 | Test Loss: 0.5739762187004089\n",
            "Epoch: 100 | Train Loss: 0.006215683650225401 | Test Loss: 0.014086711220443249\n",
            "Epoch: 200 | Train Loss: 0.0012645035749301314 | Test Loss: 0.013801801018416882\n",
            "Epoch: 300 | Train Loss: 0.0012645035749301314 | Test Loss: 0.013801801018416882\n",
            "Epoch: 400 | Train Loss: 0.0012645035749301314 | Test Loss: 0.013801801018416882\n",
            "Epoch: 500 | Train Loss: 0.0012645035749301314 | Test Loss: 0.013801801018416882\n",
            "Epoch: 600 | Train Loss: 0.0012645035749301314 | Test Loss: 0.013801801018416882\n",
            "Epoch: 700 | Train Loss: 0.0012645035749301314 | Test Loss: 0.013801801018416882\n",
            "Epoch: 800 | Train Loss: 0.0012645035749301314 | Test Loss: 0.013801801018416882\n",
            "Epoch: 900 | Train Loss: 0.0012645035749301314 | Test Loss: 0.013801801018416882\n"
          ]
        }
      ]
    },
    {
      "cell_type": "code",
      "source": [
        "# Find our model's learned parameters\n",
        "from pprint import pprint\n",
        "print(\"The model learned the following values for weights and bias:\")\n",
        "print(model_1.state_dict())\n",
        "print(\"\\nAnd the original values for weights and bias are:\")\n",
        "print(f\"weights: {weight}, bias: {bias}\")"
      ],
      "metadata": {
        "id": "mrtaWIWIMYRl",
        "colab": {
          "base_uri": "https://localhost:8080/"
        },
        "outputId": "6f35e7f6-9b10-4c0b-f7c1-fc056e2b75ff"
      },
      "execution_count": null,
      "outputs": [
        {
          "output_type": "stream",
          "name": "stdout",
          "text": [
            "The model learned the following values for weights and bias:\n",
            "OrderedDict([('linear_layer.weight', tensor([[0.6968]], device='cuda:0')), ('linear_layer.bias', tensor([0.3025], device='cuda:0'))])\n",
            "\n",
            "And the original values for weights and bias are:\n",
            "weights: 0.7, bias: 0.3\n"
          ]
        }
      ]
    },
    {
      "cell_type": "markdown",
      "source": [
        "### 6.4 Making predictions"
      ],
      "metadata": {
        "id": "WxIeKH46Kn9f"
      }
    },
    {
      "cell_type": "code",
      "source": [
        "# Turn model into evaluation mode\n",
        "model_1.eval()\n",
        "\n",
        "# Make predictions on the test data\n",
        "with torch.inference_mode():\n",
        "    y_preds = model_1(X_test)\n",
        "\n",
        "y_preds"
      ],
      "metadata": {
        "id": "a-IcJ-RpMYPE",
        "colab": {
          "base_uri": "https://localhost:8080/"
        },
        "outputId": "b6d00bfb-13ab-4cae-9308-839965581fdb"
      },
      "execution_count": null,
      "outputs": [
        {
          "output_type": "execute_result",
          "data": {
            "text/plain": [
              "tensor([[0.8600],\n",
              "        [0.8739],\n",
              "        [0.8878],\n",
              "        [0.9018],\n",
              "        [0.9157],\n",
              "        [0.9296],\n",
              "        [0.9436],\n",
              "        [0.9575],\n",
              "        [0.9714],\n",
              "        [0.9854]], device='cuda:0')"
            ]
          },
          "metadata": {},
          "execution_count": 119
        }
      ]
    },
    {
      "cell_type": "code",
      "source": [
        "# plot_predictions(predictions=y_preds)  # -> won't work... data not on CPU\n",
        "\n",
        "# Put data on the CPU and plot it\n",
        "plot_predictions(predictions=y_preds.cpu())"
      ],
      "metadata": {
        "id": "GE0JyqyXMYMp",
        "colab": {
          "base_uri": "https://localhost:8080/",
          "height": 599
        },
        "outputId": "46b5bc8b-96f9-4c51-ae0c-eb5b009775fb"
      },
      "execution_count": null,
      "outputs": [
        {
          "output_type": "display_data",
          "data": {
            "text/plain": [
              "<Figure size 1000x700 with 1 Axes>"
            ],
            "image/png": "[encoded data removed]"
          },
          "metadata": {}
        }
      ]
    },
    {
      "cell_type": "markdown",
      "source": [
        "### 6.5 Saving and loading a model"
      ],
      "metadata": {
        "id": "hOO-EY_sLWwm"
      }
    },
    {
      "cell_type": "code",
      "source": [
        "from pathlib import Path\n",
        "\n",
        "# 1. Create models directory\n",
        "MODEL_PATH = Path(\"models\")\n",
        "MODEL_PATH.mkdir(parents=True, exist_ok=True)\n",
        "\n",
        "# 2. Create model save path\n",
        "MODEL_NAME = \"01_pytorch_workflow_model_1.pth\"\n",
        "MODEL_SAVE_PATH = MODEL_PATH / MODEL_NAME\n",
        "\n",
        "# 3. Save the model state dict\n",
        "print(f\"Saving model to: {MODEL_SAVE_PATH}\")\n",
        "torch.save(obj=model_1.state_dict(),  # only saving the state_dict() only saves the models learned parameters\n",
        "           f=MODEL_SAVE_PATH)"
      ],
      "metadata": {
        "id": "2WWms9APMYKL",
        "colab": {
          "base_uri": "https://localhost:8080/"
        },
        "outputId": "e97aea9f-426e-4e54-8a3a-ca9decfa2928"
      },
      "execution_count": null,
      "outputs": [
        {
          "output_type": "stream",
          "name": "stdout",
          "text": [
            "Saving model to: models/01_pytorch_workflow_model_1.pth\n"
          ]
        }
      ]
    },
    {
      "cell_type": "code",
      "source": [
        "# Instantiate a fresh instance of LinearRegressionModelV2\n",
        "loaded_model_1 = LinearRegressionModelV2()\n",
        "\n",
        "# Load model state dict\n",
        "loaded_model_1.load_state_dict(torch.load(MODEL_SAVE_PATH))\n",
        "\n",
        "# Put model to target device (if your data is on GPU, model will have to be on GPU to make predictions)\n",
        "loaded_model_1.to(device)\n",
        "\n",
        "print(f\"Loaded model:\\n{loaded_model_1}\")\n",
        "print(f\"Model on device:\\n{next(loaded_model_1.parameters()).device}\")"
      ],
      "metadata": {
        "id": "t2v_XVUKMYHx",
        "colab": {
          "base_uri": "https://localhost:8080/"
        },
        "outputId": "59c84d0f-6275-4ff0-a8b0-b9e5c3c42d77"
      },
      "execution_count": null,
      "outputs": [
        {
          "output_type": "stream",
          "name": "stdout",
          "text": [
            "Loaded model:\n",
            "LinearRegressionModelV2(\n",
            "  (linear_layer): Linear(in_features=1, out_features=1, bias=True)\n",
            ")\n",
            "Model on device:\n",
            "cuda:0\n"
          ]
        }
      ]
    },
    {
      "cell_type": "code",
      "source": [
        "# Evaluate loaded model\n",
        "loaded_model_1.eval()\n",
        "with torch.inference_mode():\n",
        "    loaded_model_1_preds = loaded_model_1(X_test)\n",
        "\n",
        "y_preds == loaded_model_1_preds"
      ],
      "metadata": {
        "id": "XshOGKWMMYFV",
        "colab": {
          "base_uri": "https://localhost:8080/"
        },
        "outputId": "4c35f636-0826-4f27-a0e5-24ac368e2899"
      },
      "execution_count": null,
      "outputs": [
        {
          "output_type": "execute_result",
          "data": {
            "text/plain": [
              "tensor([[True],\n",
              "        [True],\n",
              "        [True],\n",
              "        [True],\n",
              "        [True],\n",
              "        [True],\n",
              "        [True],\n",
              "        [True],\n",
              "        [True],\n",
              "        [True]], device='cuda:0')"
            ]
          },
          "metadata": {},
          "execution_count": 123
        }
      ]
    },
    {
      "cell_type": "markdown",
      "source": [
        "## Exercises"
      ],
      "metadata": {
        "id": "4vSwktSjNq46"
      }
    },
    {
      "cell_type": "code",
      "source": [
        "# Device agnostic code\n",
        "device = \"cuda\" if torch.cuda.is_available() else \"cpu\"\n",
        "print(f\"Current device - {device}\")"
      ],
      "metadata": {
        "id": "zFs5cN6vcmuw",
        "colab": {
          "base_uri": "https://localhost:8080/"
        },
        "outputId": "b0a27c2a-8a0a-431f-8136-7518ee1cc677"
      },
      "execution_count": 16,
      "outputs": [
        {
          "output_type": "stream",
          "name": "stdout",
          "text": [
            "Current device - cuda\n"
          ]
        }
      ]
    },
    {
      "cell_type": "markdown",
      "source": [
        "### Exercise - 1"
      ],
      "metadata": {
        "id": "-KE0DgyHNsyK"
      }
    },
    {
      "cell_type": "code",
      "execution_count": null,
      "metadata": {
        "id": "xllQ7LP5LxxK"
      },
      "outputs": [],
      "source": [
        "# Set parameters for straight line dataset\n",
        "weight = 0.3\n",
        "bias = 0.9"
      ]
    },
    {
      "cell_type": "code",
      "source": [
        "# Generate X data\n",
        "start = 0\n",
        "end = 1\n",
        "step = 0.008\n",
        "X_data = torch.arange(start, end, step).unsqueeze(dim=1)\n",
        "# Create y data\n",
        "y_data = weight * X_data + bias\n",
        "\n",
        "len(X_data), len(y_data)"
      ],
      "metadata": {
        "id": "1BGtIPjeN45c",
        "colab": {
          "base_uri": "https://localhost:8080/"
        },
        "outputId": "9cbb29f3-e90e-4e9c-8be3-17fb2841bd92"
      },
      "execution_count": null,
      "outputs": [
        {
          "output_type": "execute_result",
          "data": {
            "text/plain": [
              "(125, 125)"
            ]
          },
          "metadata": {},
          "execution_count": 169
        }
      ]
    },
    {
      "cell_type": "code",
      "source": [
        "# Split data to train/test sets\n",
        "split_size = int(0.8 * len(X_data))\n",
        "X_train, y_train = X_data[:split_size], y_data[:split_size]\n",
        "X_test, y_test = X_data[split_size:], y_data[split_size:]\n",
        "\n",
        "len(X_train), len(y_train), len(X_test), len(y_test)"
      ],
      "metadata": {
        "id": "rghH9uvwd77Q",
        "colab": {
          "base_uri": "https://localhost:8080/"
        },
        "outputId": "26e84a72-b201-41a9-9a7d-7785d53bb592"
      },
      "execution_count": null,
      "outputs": [
        {
          "output_type": "execute_result",
          "data": {
            "text/plain": [
              "(100, 100, 25, 25)"
            ]
          },
          "metadata": {},
          "execution_count": 170
        }
      ]
    },
    {
      "cell_type": "code",
      "source": [
        "# Plot training and testing data\n",
        "plt.figure(figsize=(10, 7))\n",
        "plt.scatter(X_train, y_train, c='orange', label=\"Training data\")\n",
        "plt.scatter(X_test, y_test, c='blue', label=\"Testing data\")\n",
        "plt.legend(prop={\"size\": 14})"
      ],
      "metadata": {
        "colab": {
          "base_uri": "https://localhost:8080/",
          "height": 618
        },
        "id": "VreyRAsVeWo4",
        "outputId": "291249ba-bb5b-45c6-9745-5ca9276cadc9"
      },
      "execution_count": null,
      "outputs": [
        {
          "output_type": "execute_result",
          "data": {
            "text/plain": [
              "<matplotlib.legend.Legend at 0x7fa6f14020b0>"
            ]
          },
          "metadata": {},
          "execution_count": 127
        },
        {
          "output_type": "display_data",
          "data": {
            "text/plain": [
              "<Figure size 1000x700 with 1 Axes>"
            ],
            "image/png": "[encoded data removed]"
          },
          "metadata": {}
        }
      ]
    },
    {
      "cell_type": "markdown",
      "source": [
        "### Exercise - 2"
      ],
      "metadata": {
        "id": "bsH2e3PWNxbQ"
      }
    },
    {
      "cell_type": "code",
      "source": [
        "class LinearModel(nn.Module):\n",
        "\n",
        "    def __init__(self):\n",
        "        super().__init__()\n",
        "\n",
        "        self.weights = nn.Parameter(torch.randn(1,\n",
        "                                                dtype=torch.float),\n",
        "                                    requires_grad=True)\n",
        "        self.bias = nn.Parameter(torch.randn(1,\n",
        "                                             dtype=torch.float),\n",
        "                                 requires_grad=True)\n",
        "\n",
        "    def forward(self, X: torch.Tensor) -> torch.Tensor:\n",
        "        \"\"\"Data for training go through this method\"\"\"\n",
        "        return self.weights * X + self.bias"
      ],
      "metadata": {
        "id": "fyMqmMUFN5dK"
      },
      "execution_count": 10,
      "outputs": []
    },
    {
      "cell_type": "code",
      "source": [
        "torch.manual_seed(21)\n",
        "\n",
        "# Initialize model\n",
        "ex_2_model = LinearModel().to(device)\n",
        "\n",
        "# Check model parameters\n",
        "ex_2_model, ex_2_model.state_dict()"
      ],
      "metadata": {
        "id": "gtALGL8LN5Yi",
        "colab": {
          "base_uri": "https://localhost:8080/"
        },
        "outputId": "3415cb7c-4620-4a1f-9851-b2428fa568ee"
      },
      "execution_count": null,
      "outputs": [
        {
          "output_type": "execute_result",
          "data": {
            "text/plain": [
              "(LinearModel(),\n",
              " OrderedDict([('weights', tensor([0.1081], device='cuda:0')),\n",
              "              ('bias', tensor([-0.4376], device='cuda:0'))]))"
            ]
          },
          "metadata": {},
          "execution_count": 157
        }
      ]
    },
    {
      "cell_type": "code",
      "source": [
        "# Check on which device our model live\n",
        "next(ex_2_model.parameters()).device"
      ],
      "metadata": {
        "colab": {
          "base_uri": "https://localhost:8080/"
        },
        "id": "5-JjIv6JIA-b",
        "outputId": "68a9d7f6-41a4-4439-8126-77f957b5e1ca"
      },
      "execution_count": null,
      "outputs": [
        {
          "output_type": "execute_result",
          "data": {
            "text/plain": [
              "device(type='cuda', index=0)"
            ]
          },
          "metadata": {},
          "execution_count": 158
        }
      ]
    },
    {
      "cell_type": "markdown",
      "source": [
        "### Exercise - 3"
      ],
      "metadata": {
        "id": "0oMzKplANxvY"
      }
    },
    {
      "cell_type": "code",
      "source": [
        "# Create loss function\n",
        "loss_fn = nn.L1Loss()"
      ],
      "metadata": {
        "id": "2I6odSweN52f"
      },
      "execution_count": null,
      "outputs": []
    },
    {
      "cell_type": "code",
      "source": [
        "# Create optimizer for model\n",
        "learning_rate = 0.01\n",
        "optimizer = torch.optim.SGD(ex_2_model.parameters(), learning_rate)"
      ],
      "metadata": {
        "id": "nbGxuii6N50K"
      },
      "execution_count": null,
      "outputs": []
    },
    {
      "cell_type": "code",
      "source": [
        "def train_part(model, data, labels):\n",
        "    \"\"\"Training part\"\"\"\n",
        "    # Set training mode on model\n",
        "    model.train()\n",
        "\n",
        "    # Get predictions from model\n",
        "    y_preds = model(data)\n",
        "\n",
        "    # Calculate loss\n",
        "    loss = loss_fn(y_preds, labels)\n",
        "\n",
        "    # Set gradient in optimizer to zero\n",
        "    optimizer.zero_grad()\n",
        "\n",
        "    # Calculate loss to backward through model and change its parameters\n",
        "    loss.backward()\n",
        "\n",
        "    # Calculate optimizer gradient\n",
        "    optimizer.step()\n",
        "    return loss"
      ],
      "metadata": {
        "id": "y_WDUoVaIa6G"
      },
      "execution_count": 68,
      "outputs": []
    },
    {
      "cell_type": "code",
      "source": [
        "def test_part(model, data, labels):\n",
        "    \"\"\"Test part\"\"\"\n",
        "    # Set model to evaluation mode\n",
        "    model.eval()\n",
        "\n",
        "    # Forward pass data through model\n",
        "    with torch.inference_mode():\n",
        "        # Calculate evaluation predictions\n",
        "        eval_preds = model(data)\n",
        "\n",
        "        # Calculate the loss of evaluation data\n",
        "        eval_loss = loss_fn(eval_preds, labels.type(torch.float))\n",
        "\n",
        "    return eval_loss"
      ],
      "metadata": {
        "id": "wAXvvFChKETw"
      },
      "execution_count": 69,
      "outputs": []
    },
    {
      "cell_type": "code",
      "source": [
        "# Set the number of epochs\n",
        "epochs = 300\n",
        "\n",
        "# Set data to `cuda` device\n",
        "X_train = X_train.to(device)\n",
        "y_train = y_train.to(device)\n",
        "X_test = X_test.to(device)\n",
        "y_test = y_test.to(device)\n",
        "\n",
        "# Start train loop\n",
        "for epoch in range(epochs):\n",
        "    loss = train_part(ex_2_model, X_train, y_train)\n",
        "    if epoch % 20 == 0:\n",
        "        eval_loss = test_part(ex_2_model, X_test, y_test)\n",
        "        print(f\"Epoch: {epoch} | Train Loss: {loss:.4f} | Test Loss: {eval_loss:.4f}\")"
      ],
      "metadata": {
        "colab": {
          "base_uri": "https://localhost:8080/"
        },
        "id": "6LcI16MkK18l",
        "outputId": "9f9b39f7-4c25-4327-d239-87f62d0f0660"
      },
      "execution_count": null,
      "outputs": [
        {
          "output_type": "stream",
          "name": "stdout",
          "text": [
            "Epoch: 0 | Train Loss: 1.4136 | Test Loss: 1.4960\n",
            "Epoch: 20 | Train Loss: 1.1822 | Test Loss: 1.2250\n",
            "Epoch: 40 | Train Loss: 0.9508 | Test Loss: 0.9540\n",
            "Epoch: 60 | Train Loss: 0.7195 | Test Loss: 0.6831\n",
            "Epoch: 80 | Train Loss: 0.4881 | Test Loss: 0.4121\n",
            "Epoch: 100 | Train Loss: 0.2567 | Test Loss: 0.1411\n",
            "Epoch: 120 | Train Loss: 0.0653 | Test Loss: 0.0902\n",
            "Epoch: 140 | Train Loss: 0.0507 | Test Loss: 0.1140\n",
            "Epoch: 160 | Train Loss: 0.0438 | Test Loss: 0.1017\n",
            "Epoch: 180 | Train Loss: 0.0370 | Test Loss: 0.0858\n",
            "Epoch: 200 | Train Loss: 0.0301 | Test Loss: 0.0700\n",
            "Epoch: 220 | Train Loss: 0.0233 | Test Loss: 0.0538\n",
            "Epoch: 240 | Train Loss: 0.0164 | Test Loss: 0.0377\n",
            "Epoch: 260 | Train Loss: 0.0096 | Test Loss: 0.0215\n",
            "Epoch: 280 | Train Loss: 0.0027 | Test Loss: 0.0057\n"
          ]
        }
      ]
    },
    {
      "cell_type": "code",
      "source": [
        "# Plot the loss curves\n",
        "plt.plot(epoch_count, train_loss_values, label=\"Train loss\")\n",
        "plt.plot(epoch_count, test_loss_values, label=\"Test loss\")\n",
        "\n",
        "plt.title(\"Training and Test loss curves\")\n",
        "plt.ylabel(\"Loss\")\n",
        "plt.xlabel(\"Epochs\")\n",
        "plt.legend()"
      ],
      "metadata": {
        "colab": {
          "base_uri": "https://localhost:8080/",
          "height": 491
        },
        "id": "0mUoS_IdRiDM",
        "outputId": "7e8d6166-905e-4f24-865e-fc86126eaf67"
      },
      "execution_count": null,
      "outputs": [
        {
          "output_type": "execute_result",
          "data": {
            "text/plain": [
              "<matplotlib.legend.Legend at 0x7fa6f137b460>"
            ]
          },
          "metadata": {},
          "execution_count": 164
        },
        {
          "output_type": "display_data",
          "data": {
            "text/plain": [
              "<Figure size 640x480 with 1 Axes>"
            ],
            "image/png": "[encoded data removed]"
          },
          "metadata": {}
        }
      ]
    },
    {
      "cell_type": "markdown",
      "source": [
        "### Exercise - 4"
      ],
      "metadata": {
        "id": "jh985HR8NxQM"
      }
    },
    {
      "cell_type": "code",
      "source": [
        "# Make predictions from model\n",
        "ex_2_model.eval()\n",
        "\n",
        "with torch.inference_mode():\n",
        "    model_preds = ex_2_model(X_test)\n",
        "model_preds.device"
      ],
      "metadata": {
        "colab": {
          "base_uri": "https://localhost:8080/"
        },
        "id": "oyiCWUG-M_vz",
        "outputId": "79ea1abc-d29b-44c8-9ca0-666ab85e1846"
      },
      "execution_count": null,
      "outputs": [
        {
          "output_type": "execute_result",
          "data": {
            "text/plain": [
              "device(type='cuda', index=0)"
            ]
          },
          "metadata": {},
          "execution_count": 165
        }
      ]
    },
    {
      "cell_type": "code",
      "source": [
        "# Plot results of model predictions with train/test data\n",
        "X_train = X_train.cpu()\n",
        "y_train = y_train.cpu()\n",
        "X_test = X_test.cpu()\n",
        "y_test = y_test.cpu()\n",
        "\n",
        "plt.figure(figsize=(10, 7))\n",
        "plt.scatter(X_train, y_train, c='orange', label=\"Training data\")\n",
        "plt.scatter(X_test, y_test, c='blue', label=\"Testing data\")\n",
        "plt.scatter(X_test, model_preds.cpu(), c='red', label=\"Model preds\")\n",
        "plt.legend(prop={\"size\": 14})"
      ],
      "metadata": {
        "id": "egP62Jo1N6Vb",
        "colab": {
          "base_uri": "https://localhost:8080/",
          "height": 618
        },
        "outputId": "89774646-2c3b-4ebc-b840-3dd3f841f190"
      },
      "execution_count": null,
      "outputs": [
        {
          "output_type": "execute_result",
          "data": {
            "text/plain": [
              "<matplotlib.legend.Legend at 0x7fa6f15de260>"
            ]
          },
          "metadata": {},
          "execution_count": 166
        },
        {
          "output_type": "display_data",
          "data": {
            "text/plain": [
              "<Figure size 1000x700 with 1 Axes>"
            ],
            "image/png": "[encoded data removed]"
          },
          "metadata": {}
        }
      ]
    },
    {
      "cell_type": "code",
      "source": [
        "# Check model state_dict\n",
        "print(\"The model learned the following values for weights and bias:\")\n",
        "print(ex_2_model.state_dict())\n",
        "print(\"\\nAnd the original values for weights and bias are:\")\n",
        "print(f\"weights: {weight}, bias: {bias}\")"
      ],
      "metadata": {
        "colab": {
          "base_uri": "https://localhost:8080/"
        },
        "id": "CzQGJDEzNedA",
        "outputId": "4b6e1057-a9e3-4afc-ba65-96bcfbb6c556"
      },
      "execution_count": null,
      "outputs": [
        {
          "output_type": "stream",
          "name": "stdout",
          "text": [
            "The model learned the following values for weights and bias:\n",
            "OrderedDict([('weights', tensor([0.3027], device='cuda:0')), ('bias', tensor([0.8968], device='cuda:0'))])\n",
            "\n",
            "And the original values for weights and bias are:\n",
            "weights: 0.3, bias: 0.9\n"
          ]
        }
      ]
    },
    {
      "cell_type": "markdown",
      "source": [
        "### Exercise - 5"
      ],
      "metadata": {
        "id": "v6LUCI5hN32E"
      }
    },
    {
      "cell_type": "code",
      "source": [
        "from pathlib import Path\n",
        "# Save model to file\n",
        "model_root = Path(\"models\")\n",
        "model_root.mkdir(parents=True, exist_ok=True)\n",
        "model_name = \"ex_2_model.pth\"\n",
        "model_path = model_root / model_name\n",
        "print(f\"Saving model to: {model_path}\")\n",
        "torch.save(ex_2_model.state_dict(),\n",
        "           model_path)"
      ],
      "metadata": {
        "id": "YIfBMZ2tN6vd",
        "colab": {
          "base_uri": "https://localhost:8080/"
        },
        "outputId": "b3715d77-53e6-4f94-9928-00c297f1a36d"
      },
      "execution_count": null,
      "outputs": [
        {
          "output_type": "stream",
          "name": "stdout",
          "text": [
            "Saving model to: models/ex_2_model.pth\n"
          ]
        }
      ]
    },
    {
      "cell_type": "code",
      "source": [
        "# Init new model and load state dict from file\n",
        "loaded_ex_2_model = LinearModel().to(device)\n",
        "loaded_ex_2_model.load_state_dict(torch.load(model_path))"
      ],
      "metadata": {
        "id": "4DKrRBT-N6tK",
        "colab": {
          "base_uri": "https://localhost:8080/"
        },
        "outputId": "d41a13b9-a2b1-4dce-aaa9-d1fa09ff2cf2"
      },
      "execution_count": null,
      "outputs": [
        {
          "output_type": "execute_result",
          "data": {
            "text/plain": [
              "<All keys matched successfully>"
            ]
          },
          "metadata": {},
          "execution_count": 172
        }
      ]
    },
    {
      "cell_type": "code",
      "source": [
        "# Check loaded model\n",
        "print(f\"Loaded model:\\n{loaded_ex_2_model}\")\n",
        "print(f\"Model on device:\\n{next(loaded_ex_2_model.parameters()).device}\")"
      ],
      "metadata": {
        "colab": {
          "base_uri": "https://localhost:8080/"
        },
        "id": "d4magbZLPMHZ",
        "outputId": "966fdb10-e249-4952-9f71-e80005c71ffc"
      },
      "execution_count": null,
      "outputs": [
        {
          "output_type": "stream",
          "name": "stdout",
          "text": [
            "Loaded model:\n",
            "LinearModel()\n",
            "Model on device:\n",
            "cuda:0\n"
          ]
        }
      ]
    },
    {
      "cell_type": "code",
      "source": [
        "# Check loaded model parameter with previous model\n",
        "X_test = X_test.to(device)\n",
        "loaded_ex_2_model.eval()\n",
        "with torch.inference_mode():\n",
        "    loaded_model_preds = loaded_ex_2_model(X_test)\n",
        "model_preds == loaded_model_preds"
      ],
      "metadata": {
        "colab": {
          "base_uri": "https://localhost:8080/"
        },
        "id": "X5LkEB6vQKl1",
        "outputId": "57b47396-efd2-4d03-b8e2-93a330df112a"
      },
      "execution_count": null,
      "outputs": [
        {
          "output_type": "execute_result",
          "data": {
            "text/plain": [
              "tensor([[True],\n",
              "        [True],\n",
              "        [True],\n",
              "        [True],\n",
              "        [True],\n",
              "        [True],\n",
              "        [True],\n",
              "        [True],\n",
              "        [True],\n",
              "        [True],\n",
              "        [True],\n",
              "        [True],\n",
              "        [True],\n",
              "        [True],\n",
              "        [True],\n",
              "        [True],\n",
              "        [True],\n",
              "        [True],\n",
              "        [True],\n",
              "        [True],\n",
              "        [True],\n",
              "        [True],\n",
              "        [True],\n",
              "        [True],\n",
              "        [True]], device='cuda:0')"
            ]
          },
          "metadata": {},
          "execution_count": 174
        }
      ]
    },
    {
      "cell_type": "markdown",
      "source": [
        "## Extra-curriculum"
      ],
      "metadata": {
        "id": "xqs0UJVyN7IO"
      }
    },
    {
      "cell_type": "markdown",
      "source": [
        "### How to adjuct learning rate"
      ],
      "metadata": {
        "id": "3ZwcPTT9TYjC"
      }
    },
    {
      "cell_type": "code",
      "source": [
        "# Set parameters for straight line dataset\n",
        "weights = 0.3\n",
        "bias = 0.9\n",
        "\n",
        "# Generate X data\n",
        "start = 0\n",
        "end = 1\n",
        "step = 0.008\n",
        "X_data = torch.arange(start, end, step).unsqueeze(dim=1)\n",
        "# Create y data\n",
        "y_data = weights * X_data + bias\n",
        "\n",
        "len(X_data), len(y_data)"
      ],
      "metadata": {
        "id": "hrc8TWlDV0AR",
        "colab": {
          "base_uri": "https://localhost:8080/"
        },
        "outputId": "28971902-f819-4025-b5cd-025615816147"
      },
      "execution_count": 6,
      "outputs": [
        {
          "output_type": "execute_result",
          "data": {
            "text/plain": [
              "(125, 125)"
            ]
          },
          "metadata": {},
          "execution_count": 6
        }
      ]
    },
    {
      "cell_type": "code",
      "source": [
        "# Split data to train/test sets\n",
        "split_size = int(0.8 * len(X_data))\n",
        "X_train, y_train = X_data[:split_size], y_data[:split_size]\n",
        "X_test, y_test = X_data[split_size:], y_data[split_size:]\n",
        "\n",
        "len(X_train), len(y_train), len(X_test), len(y_test)"
      ],
      "metadata": {
        "id": "yC6E2R-5VvhQ",
        "colab": {
          "base_uri": "https://localhost:8080/"
        },
        "outputId": "f4c9e359-5bbe-440a-d4f4-dd76aaff47c5"
      },
      "execution_count": 7,
      "outputs": [
        {
          "output_type": "execute_result",
          "data": {
            "text/plain": [
              "(100, 100, 25, 25)"
            ]
          },
          "metadata": {},
          "execution_count": 7
        }
      ]
    },
    {
      "cell_type": "code",
      "source": [
        "torch.manual_seed(21)\n",
        "\n",
        "# Initialize extra curriculum model\n",
        "ex_cur_model = LinearModel().to(device)\n",
        "\n",
        "# Check model parameters\n",
        "ex_cur_model, ex_cur_model.state_dict()"
      ],
      "metadata": {
        "id": "GxrHB86QN9o8",
        "colab": {
          "base_uri": "https://localhost:8080/"
        },
        "outputId": "c714295c-03f9-47d1-a70f-caa7e3772c25"
      },
      "execution_count": 85,
      "outputs": [
        {
          "output_type": "execute_result",
          "data": {
            "text/plain": [
              "(LinearModel(),\n",
              " OrderedDict([('weights', tensor([0.1081], device='cuda:0')),\n",
              "              ('bias', tensor([-0.4376], device='cuda:0'))]))"
            ]
          },
          "metadata": {},
          "execution_count": 85
        }
      ]
    },
    {
      "cell_type": "code",
      "source": [
        "# Create loss function\n",
        "loss_fn = nn.L1Loss()"
      ],
      "metadata": {
        "id": "Lmk7UlR4S0Av"
      },
      "execution_count": 86,
      "outputs": []
    },
    {
      "cell_type": "code",
      "source": [
        "# Create optimizer\n",
        "optimizer = torch.optim.SGD(ex_cur_model.parameters(), lr=0.01)\n",
        "scheduler = torch.optim.lr_scheduler.CosineAnnealingLR(optimizer, T_max=70)"
      ],
      "metadata": {
        "id": "1oNMqf9GSz-g"
      },
      "execution_count": 87,
      "outputs": []
    },
    {
      "cell_type": "code",
      "source": [
        "epochs = 300\n",
        "\n",
        "X_train = X_train.to(device)\n",
        "y_train = y_train.to(device)\n",
        "X_test = X_test.to(device)\n",
        "y_test = y_test.to(device)\n",
        "\n",
        "# Create empty loss lists to track values\n",
        "train_loss_values = []\n",
        "val_loss_values = []\n",
        "epoch_count = []\n",
        "\n",
        "# Loop through epochs\n",
        "for epoch in range(epochs):\n",
        "    # Loop through training process\n",
        "    loss = train_part(ex_cur_model, X_train, y_train)\n",
        "    # Loop through validation process\n",
        "    val_loss = test_part(ex_cur_model, X_test, y_test)\n",
        "    # Step learning rate scheduler for adjusting learning rate\n",
        "    scheduler.step()\n",
        "\n",
        "    epoch_count.append(epoch)\n",
        "    train_loss_values.append(loss.detach().cpu().numpy())\n",
        "    val_loss_values.append(val_loss.detach().cpu().numpy())\n",
        "\n",
        "    if epoch % 20 == 0:\n",
        "        print(f\"Epoch: {epoch} | Train Loss: {loss} | Valid Loss: {val_loss}\")"
      ],
      "metadata": {
        "colab": {
          "base_uri": "https://localhost:8080/"
        },
        "id": "0V_13xgKSz8K",
        "outputId": "ffe58dc5-72dc-41cd-d109-89fbdc498d9e"
      },
      "execution_count": 88,
      "outputs": [
        {
          "output_type": "stream",
          "name": "stdout",
          "text": [
            "Epoch: 0 | Train Loss: 4.843592643737793 | Valid Loss: 1.49595308303833\n",
            "Epoch: 20 | Train Loss: 4.626077175140381 | Valid Loss: 1.2437585592269897\n",
            "Epoch: 40 | Train Loss: 4.486348628997803 | Valid Loss: 1.084401249885559\n",
            "Epoch: 60 | Train Loss: 4.446626663208008 | Valid Loss: 1.037906289100647\n",
            "Epoch: 80 | Train Loss: 4.44359827041626 | Valid Loss: 1.0339316129684448\n",
            "Epoch: 100 | Train Loss: 4.410567283630371 | Valid Loss: 0.9857000708580017\n",
            "Epoch: 120 | Train Loss: 4.318729877471924 | Valid Loss: 0.849605917930603\n",
            "Epoch: 140 | Train Loss: 4.179975509643555 | Valid Loss: 0.6451170444488525\n",
            "Epoch: 160 | Train Loss: 4.0398173332214355 | Valid Loss: 0.44267538189888\n",
            "Epoch: 180 | Train Loss: 3.947667360305786 | Valid Loss: 0.3128300607204437\n",
            "Epoch: 200 | Train Loss: 3.916785717010498 | Valid Loss: 0.27146318554878235\n",
            "Epoch: 220 | Train Loss: 3.9142961502075195 | Valid Loss: 0.26783114671707153\n",
            "Epoch: 240 | Train Loss: 3.8859431743621826 | Valid Loss: 0.22277511656284332\n",
            "Epoch: 260 | Train Loss: 3.797126531600952 | Valid Loss: 0.08860790729522705\n",
            "Epoch: 280 | Train Loss: 3.6787731647491455 | Valid Loss: 0.09783576428890228\n"
          ]
        }
      ]
    },
    {
      "cell_type": "code",
      "source": [
        "# Plot the result of learning\n",
        "plt.plot(epoch_count, train_loss_values, label=\"Train loss\")\n",
        "plt.plot(epoch_count, val_loss_values, label=\"Test loss\")\n",
        "\n",
        "plt.title(\"Training and Test loss curves\")\n",
        "plt.ylabel(\"Loss\")\n",
        "plt.xlabel(\"Epochs\")\n",
        "plt.legend()"
      ],
      "metadata": {
        "colab": {
          "base_uri": "https://localhost:8080/",
          "height": 491
        },
        "id": "689iAP20U8N1",
        "outputId": "2b5dcfef-f57f-4add-d557-f02d4e2da326"
      },
      "execution_count": 89,
      "outputs": [
        {
          "output_type": "execute_result",
          "data": {
            "text/plain": [
              "<matplotlib.legend.Legend at 0x7fb85b5b5030>"
            ]
          },
          "metadata": {},
          "execution_count": 89
        },
        {
          "output_type": "display_data",
          "data": {
            "text/plain": [
              "<Figure size 640x480 with 1 Axes>"
            ],
            "image/png": "[encoded data removed]"
          },
          "metadata": {}
        }
      ]
    },
    {
      "cell_type": "code",
      "source": [
        "# Check learning rate of model\n",
        "print(f\"Learning rate after adjusting: {optimizer.param_groups[0]['lr']}\")"
      ],
      "metadata": {
        "colab": {
          "base_uri": "https://localhost:8080/"
        },
        "id": "AJOxLg_RSz5o",
        "outputId": "ca86797e-59f5-47e7-f25c-4ffd65132019"
      },
      "execution_count": 131,
      "outputs": [
        {
          "output_type": "stream",
          "name": "stdout",
          "text": [
            "Learning rate after adjusting: 0.008117449009293662\n"
          ]
        }
      ]
    },
    {
      "cell_type": "markdown",
      "source": [
        "### What is `torch.nn` really?"
      ],
      "metadata": {
        "id": "-AWn0zwwbe2H"
      }
    },
    {
      "cell_type": "markdown",
      "source": [
        "#### MNIST data setup"
      ],
      "metadata": {
        "id": "A6jTk_5gcIhz"
      }
    },
    {
      "cell_type": "code",
      "source": [
        "from pathlib import Path\n",
        "import requests\n",
        "\n",
        "# Prepare dataset dir path\n",
        "DATA_PATH = Path(\"data\")\n",
        "PATH = DATA_PATH / \"mnist\"\n",
        "# Create dir for dataset\n",
        "PATH.mkdir(parents=True, exist_ok=True)\n",
        "\n",
        "# Define url and name of file f dataset\n",
        "URL = \"https://github.com/pytorch/tutorials/raw/main/_static/\"\n",
        "FILENAME = \"mnist.pkl.gz\"\n",
        "\n",
        "# Download dataset\n",
        "if not (PATH / FILENAME).exists():\n",
        "    content = requests.get(URL + FILENAME).content\n",
        "    (PATH / FILENAME).open('wb').write(content)"
      ],
      "metadata": {
        "id": "3G7LkGM0Sz3J"
      },
      "execution_count": 91,
      "outputs": []
    },
    {
      "cell_type": "code",
      "source": [
        "import pickle\n",
        "import gzip\n",
        "\n",
        "# Open and get train/valid sets from dataset\n",
        "with gzip.open((PATH / FILENAME).as_posix(), 'rb') as f:\n",
        "    ((x_train, y_train), (x_valid, y_valid), _) = pickle.load(f, encoding=\"latin-1\")"
      ],
      "metadata": {
        "id": "9Z2tqWa5cLlJ"
      },
      "execution_count": 92,
      "outputs": []
    },
    {
      "cell_type": "code",
      "source": [
        "import matplotlib.pyplot as plt\n",
        "import numpy as np\n",
        "\n",
        "# Visualize one sample from dataset\n",
        "plt.imshow(x_train[0].reshape((28, 28)), cmap=\"gray\")\n",
        "plt.show()\n",
        "print(x_train.shape)"
      ],
      "metadata": {
        "colab": {
          "base_uri": "https://localhost:8080/",
          "height": 449
        },
        "id": "39tH1TEjcLi1",
        "outputId": "88b02f7f-abe4-462e-e49b-10e1c5b1892c"
      },
      "execution_count": 93,
      "outputs": [
        {
          "output_type": "display_data",
          "data": {
            "text/plain": [
              "<Figure size 640x480 with 1 Axes>"
            ],
            "image/png": "[encoded data removed]"
          },
          "metadata": {}
        },
        {
          "output_type": "stream",
          "name": "stdout",
          "text": [
            "(50000, 784)\n"
          ]
        }
      ]
    },
    {
      "cell_type": "code",
      "source": [
        "import torch\n",
        "\n",
        "# Convert numpy array type samples to torch.tensor type samples\n",
        "x_train, y_train, x_valid, y_valid = map(\n",
        "    torch.tensor, (x_train, y_train, x_valid, y_valid)\n",
        ")\n",
        "\n",
        "# View on new samples\n",
        "n, c = x_train.shape\n",
        "print(x_train, y_train)\n",
        "print(x_train.shape)\n",
        "print(y_train.min(), y_train.max())"
      ],
      "metadata": {
        "colab": {
          "base_uri": "https://localhost:8080/"
        },
        "id": "JoRUtMFScLge",
        "outputId": "b9b4f23a-eace-4cb4-c7dd-66c9b664a2ff"
      },
      "execution_count": 94,
      "outputs": [
        {
          "output_type": "stream",
          "name": "stdout",
          "text": [
            "tensor([[0., 0., 0.,  ..., 0., 0., 0.],\n",
            "        [0., 0., 0.,  ..., 0., 0., 0.],\n",
            "        [0., 0., 0.,  ..., 0., 0., 0.],\n",
            "        ...,\n",
            "        [0., 0., 0.,  ..., 0., 0., 0.],\n",
            "        [0., 0., 0.,  ..., 0., 0., 0.],\n",
            "        [0., 0., 0.,  ..., 0., 0., 0.]]) tensor([5, 0, 4,  ..., 8, 4, 8])\n",
            "torch.Size([50000, 784])\n",
            "tensor(0) tensor(9)\n"
          ]
        }
      ]
    },
    {
      "cell_type": "markdown",
      "source": [
        "#### Neural net from scratch (without `torch.nn`)"
      ],
      "metadata": {
        "id": "TlXIeRpzzzgM"
      }
    },
    {
      "cell_type": "code",
      "source": [
        "import math\n",
        "\n",
        "# Predefine parameters for model by hand\n",
        "weights = torch.randn(784, 10) / math.sqrt(784)\n",
        "weights.requires_grad_()\n",
        "bias = torch.zeros(10, requires_grad=True)"
      ],
      "metadata": {
        "id": "NfNMUtaQcLd9"
      },
      "execution_count": 95,
      "outputs": []
    },
    {
      "cell_type": "code",
      "source": [
        "# Predefine activation function and model function\n",
        "def log_softmax(x):\n",
        "    return x - x.exp().sum(-1).log().unsqueeze(-1)\n",
        "\n",
        "def model(xb):\n",
        "    return log_softmax(xb @ weights + bias)"
      ],
      "metadata": {
        "id": "cpwFLPhccLbf"
      },
      "execution_count": 96,
      "outputs": []
    },
    {
      "cell_type": "code",
      "source": [
        "bs = 64  # batch size\n",
        "\n",
        "xb = x_train[0:bs]  # a mini-batch from x\n",
        "preds = model(xb)  # make predictions from model\n",
        "preds[0], preds.shape"
      ],
      "metadata": {
        "colab": {
          "base_uri": "https://localhost:8080/"
        },
        "id": "4JUJc2W3cLZD",
        "outputId": "f1903136-1b2a-452b-e071-9d97ece90c0d"
      },
      "execution_count": 97,
      "outputs": [
        {
          "output_type": "execute_result",
          "data": {
            "text/plain": [
              "(tensor([-2.8377, -2.6261, -2.5367, -2.3239, -1.9326, -2.2457, -2.4553, -2.2351,\n",
              "         -2.2166, -1.9687], grad_fn=<SelectBackward0>),\n",
              " torch.Size([64, 10]))"
            ]
          },
          "metadata": {},
          "execution_count": 97
        }
      ]
    },
    {
      "cell_type": "code",
      "source": [
        "# Create loss function for the model\n",
        "def nll(input, target):\n",
        "    return -input[range(target.shape[0]), target].mean()\n",
        "\n",
        "loss_func = nll"
      ],
      "metadata": {
        "id": "Rgad8LZ1cLWh"
      },
      "execution_count": 98,
      "outputs": []
    },
    {
      "cell_type": "code",
      "source": [
        "# Test loss function\n",
        "yb = y_train[0:bs]\n",
        "loss_func(preds, yb)"
      ],
      "metadata": {
        "colab": {
          "base_uri": "https://localhost:8080/"
        },
        "id": "iWe0YBmqcLUJ",
        "outputId": "e65f9f83-af3d-495a-a2d8-9c843210e66a"
      },
      "execution_count": 99,
      "outputs": [
        {
          "output_type": "execute_result",
          "data": {
            "text/plain": [
              "tensor(2.3921, grad_fn=<NegBackward0>)"
            ]
          },
          "metadata": {},
          "execution_count": 99
        }
      ]
    },
    {
      "cell_type": "code",
      "source": [
        "# Create function to calculate accuracy of the model\n",
        "def accuracy(out, yb):\n",
        "    preds = torch.argmax(out, dim=1)\n",
        "    return (preds == yb).type(torch.float).mean()"
      ],
      "metadata": {
        "id": "9y9XHsBycLRz"
      },
      "execution_count": 100,
      "outputs": []
    },
    {
      "cell_type": "code",
      "source": [
        "# Test accuracy function\n",
        "accuracy(preds, yb)"
      ],
      "metadata": {
        "id": "38eYFXV8N-K3",
        "colab": {
          "base_uri": "https://localhost:8080/"
        },
        "outputId": "fb0bdc8c-01d7-4ab2-c9c0-758cd3dc206b"
      },
      "execution_count": 101,
      "outputs": [
        {
          "output_type": "execute_result",
          "data": {
            "text/plain": [
              "tensor(0.0625)"
            ]
          },
          "metadata": {},
          "execution_count": 101
        }
      ]
    },
    {
      "cell_type": "code",
      "source": [
        "from IPython.core.debugger import set_trace\n",
        "\n",
        "lr = 0.5  # learning rate\n",
        "epochs = 2  # how many epochs to train for\n",
        "\n",
        "# Go through train loop to fit the model\n",
        "for epoch in range(epochs):\n",
        "    for i in range((n - 1) // bs + 1):\n",
        "        #  set_trace()\n",
        "        start_i = i * bs\n",
        "        end_i =  start_i + bs\n",
        "        xb = x_train[start_i : end_i]\n",
        "        yb = y_train[start_i : end_i]\n",
        "\n",
        "        preds = model(xb)\n",
        "        loss = loss_func(preds, yb)\n",
        "\n",
        "        loss.backward()\n",
        "        with torch.no_grad():\n",
        "            weights -= weights.grad * lr\n",
        "            bias -= bias.grad * lr\n",
        "            weights.grad.zero_()\n",
        "            bias.grad.zero_()"
      ],
      "metadata": {
        "id": "8qhOF_LSN-Ij"
      },
      "execution_count": 102,
      "outputs": []
    },
    {
      "cell_type": "code",
      "source": [
        "loss_func(model(xb), yb), accuracy(model(xb), yb)"
      ],
      "metadata": {
        "id": "liXN73BSN-GL",
        "colab": {
          "base_uri": "https://localhost:8080/"
        },
        "outputId": "92e0f912-6d51-4072-ea79-9de4f6911c2e"
      },
      "execution_count": 103,
      "outputs": [
        {
          "output_type": "execute_result",
          "data": {
            "text/plain": [
              "(tensor(0.0818, grad_fn=<NegBackward0>), tensor(1.))"
            ]
          },
          "metadata": {},
          "execution_count": 103
        }
      ]
    },
    {
      "cell_type": "markdown",
      "source": [
        "#### Using `torch.nn.functional`"
      ],
      "metadata": {
        "id": "4E1HcOMBz79L"
      }
    },
    {
      "cell_type": "code",
      "source": [
        "import torch.nn.functional as F\n",
        "\n",
        "# Define new pre-built loss function\n",
        "loss_func = F.cross_entropy\n",
        "\n",
        "def model(xb):\n",
        "    return xb @ weights + bias"
      ],
      "metadata": {
        "id": "mR-Rxv_Uz74c"
      },
      "execution_count": 104,
      "outputs": []
    },
    {
      "cell_type": "code",
      "source": [
        "# Test new loss function\n",
        "loss_func(model(xb), yb), accuracy(model(xb), yb)"
      ],
      "metadata": {
        "colab": {
          "base_uri": "https://localhost:8080/"
        },
        "id": "TEe_HMiFz7zM",
        "outputId": "fa2eb43b-5743-4343-f846-97db6f43c13a"
      },
      "execution_count": 105,
      "outputs": [
        {
          "output_type": "execute_result",
          "data": {
            "text/plain": [
              "(tensor(0.0818, grad_fn=<NllLossBackward0>), tensor(1.))"
            ]
          },
          "metadata": {},
          "execution_count": 105
        }
      ]
    },
    {
      "cell_type": "markdown",
      "source": [
        "#### Refactor using nn.Module"
      ],
      "metadata": {
        "id": "bMPsFz0r1DWu"
      }
    },
    {
      "cell_type": "code",
      "source": [
        "from torch import nn\n",
        "\n",
        "# Create class of model with PyTorch.nn functionality\n",
        "class Mnist_Logistic(nn.Module):\n",
        "    def __init__(self):\n",
        "        super().__init__()\n",
        "        self.weights = nn.Parameter(torch.randn(784, 10) / math.sqrt(784))\n",
        "        self.bias = nn.Parameter(torch.zeros(10))\n",
        "\n",
        "    def forward(self, xb):\n",
        "        return xb @ self.weights + self.bias"
      ],
      "metadata": {
        "id": "oW7dzWExz7wh"
      },
      "execution_count": 106,
      "outputs": []
    },
    {
      "cell_type": "code",
      "source": [
        "# Define new model object\n",
        "model = Mnist_Logistic()"
      ],
      "metadata": {
        "id": "cddMhBBhz7uK"
      },
      "execution_count": 107,
      "outputs": []
    },
    {
      "cell_type": "code",
      "source": [
        "# Test new model object with new loss function\n",
        "loss_func(model(xb), yb)"
      ],
      "metadata": {
        "colab": {
          "base_uri": "https://localhost:8080/"
        },
        "id": "66lccn_sz7rA",
        "outputId": "6a2c7e5b-006c-42ef-cfbc-954e9a4824a5"
      },
      "execution_count": 108,
      "outputs": [
        {
          "output_type": "execute_result",
          "data": {
            "text/plain": [
              "tensor(2.3189, grad_fn=<NllLossBackward0>)"
            ]
          },
          "metadata": {},
          "execution_count": 108
        }
      ]
    },
    {
      "cell_type": "code",
      "source": [
        "def fit():\n",
        "    for epoch in range(epochs):\n",
        "        for i in range((n - 1) // bs + 1):\n",
        "            start_i = i * bs\n",
        "            end_i = start_i + bs\n",
        "            xb = x_train[start_i : end_i]\n",
        "            yb = y_train[start_i : end_i]\n",
        "\n",
        "            preds = model(xb)\n",
        "            loss = loss_func(preds, yb)\n",
        "\n",
        "            loss.backward()\n",
        "            with torch.no_grad():\n",
        "                for p in model.parameters():\n",
        "                    p -= p.grad * lr\n",
        "                model.zero_grad()"
      ],
      "metadata": {
        "id": "fFuxl1HLz7oq"
      },
      "execution_count": 109,
      "outputs": []
    },
    {
      "cell_type": "code",
      "source": [
        "# Train the model\n",
        "fit()"
      ],
      "metadata": {
        "id": "P6EZcqhHz7mK"
      },
      "execution_count": 110,
      "outputs": []
    },
    {
      "cell_type": "code",
      "source": [
        "# Test the model\n",
        "loss_func(model(xb), yb)"
      ],
      "metadata": {
        "colab": {
          "base_uri": "https://localhost:8080/"
        },
        "id": "CSw8g-v9z7jp",
        "outputId": "6231b24c-43da-486d-d5a9-56d8ed6809dd"
      },
      "execution_count": 111,
      "outputs": [
        {
          "output_type": "execute_result",
          "data": {
            "text/plain": [
              "tensor(0.0822, grad_fn=<NllLossBackward0>)"
            ]
          },
          "metadata": {},
          "execution_count": 111
        }
      ]
    },
    {
      "cell_type": "markdown",
      "source": [
        "#### Refactor using `nn.Linear`"
      ],
      "metadata": {
        "id": "cpQrvmYb3Y1F"
      }
    },
    {
      "cell_type": "code",
      "source": [
        "# Refactor model with nn.Linear layer from PyTorch functionality\n",
        "class Mnist_Logistic(nn.Module):\n",
        "    def __init__(self):\n",
        "        super().__init__()\n",
        "        self.lin = nn.Linear(784, 10)\n",
        "\n",
        "    def forward(self, xb):\n",
        "        return self.lin(xb)"
      ],
      "metadata": {
        "id": "OaqJNGHQz7hH"
      },
      "execution_count": 112,
      "outputs": []
    },
    {
      "cell_type": "code",
      "source": [
        "# Define new object of the new class of linear model\n",
        "model = Mnist_Logistic()\n",
        "# Test new object of class\n",
        "loss_func(model(xb), yb)"
      ],
      "metadata": {
        "colab": {
          "base_uri": "https://localhost:8080/"
        },
        "id": "67ijNY_fz7ez",
        "outputId": "a9effac7-2829-49b2-f92d-54a21c16464f"
      },
      "execution_count": 113,
      "outputs": [
        {
          "output_type": "execute_result",
          "data": {
            "text/plain": [
              "tensor(2.2981, grad_fn=<NllLossBackward0>)"
            ]
          },
          "metadata": {},
          "execution_count": 113
        }
      ]
    },
    {
      "cell_type": "code",
      "source": [
        "# Train the model\n",
        "fit()"
      ],
      "metadata": {
        "id": "Dr_Cy5QXz7cH"
      },
      "execution_count": 114,
      "outputs": []
    },
    {
      "cell_type": "code",
      "source": [
        "# Test the trained model\n",
        "loss_func(model(xb), yb)"
      ],
      "metadata": {
        "colab": {
          "base_uri": "https://localhost:8080/"
        },
        "id": "PHqcsZjvz7Zk",
        "outputId": "6daa5abd-c080-4a7c-ef48-e1a91c903ad3"
      },
      "execution_count": 115,
      "outputs": [
        {
          "output_type": "execute_result",
          "data": {
            "text/plain": [
              "tensor(0.0821, grad_fn=<NllLossBackward0>)"
            ]
          },
          "metadata": {},
          "execution_count": 115
        }
      ]
    },
    {
      "cell_type": "markdown",
      "source": [
        "#### Refactor using `torch.optim`"
      ],
      "metadata": {
        "id": "4FO0-kYH4UF9"
      }
    },
    {
      "cell_type": "code",
      "source": [
        "from torch import optim"
      ],
      "metadata": {
        "id": "vrEmH3EWz7XC"
      },
      "execution_count": 116,
      "outputs": []
    },
    {
      "cell_type": "code",
      "source": [
        "# Define function with new model object and optimization algorithm object\n",
        "def get_model():\n",
        "    model = Mnist_Logistic()\n",
        "    return model, optim.SGD(model.parameters(), lr=lr)"
      ],
      "metadata": {
        "id": "7tDPiPbLz7Us"
      },
      "execution_count": 117,
      "outputs": []
    },
    {
      "cell_type": "code",
      "source": [
        "# Define new model object and optimization algorithm object\n",
        "model, opt = get_model()\n",
        "print(loss_func(model(xb), yb))"
      ],
      "metadata": {
        "colab": {
          "base_uri": "https://localhost:8080/"
        },
        "id": "-Hy3btkxz7SJ",
        "outputId": "8349f7ef-18d5-45d7-c16a-ff605101be73"
      },
      "execution_count": 118,
      "outputs": [
        {
          "output_type": "stream",
          "name": "stdout",
          "text": [
            "tensor(2.3094, grad_fn=<NllLossBackward0>)\n"
          ]
        }
      ]
    },
    {
      "cell_type": "code",
      "source": [
        "# Go through train loop\n",
        "for epoch in range(epochs):\n",
        "    for i in range((n - 1) // bs + 1):\n",
        "        start_i = i * bs\n",
        "        end_i = start_i + bs\n",
        "        xb = x_train[start_i : end_i]\n",
        "        yb = y_train[start_i : end_i]\n",
        "\n",
        "        preds = model(xb)\n",
        "        loss = loss_func(preds, yb)\n",
        "\n",
        "        loss.backward()\n",
        "        opt.step()\n",
        "        opt.zero_grad()"
      ],
      "metadata": {
        "id": "yrB7P4M5z7PZ"
      },
      "execution_count": 119,
      "outputs": []
    },
    {
      "cell_type": "code",
      "source": [
        "loss_func(model(xb), yb)"
      ],
      "metadata": {
        "colab": {
          "base_uri": "https://localhost:8080/"
        },
        "id": "Iz8YmuBgz7ND",
        "outputId": "35e6eefc-af5f-41b3-c9e2-2c985f37b701"
      },
      "execution_count": 120,
      "outputs": [
        {
          "output_type": "execute_result",
          "data": {
            "text/plain": [
              "tensor(0.0809, grad_fn=<NllLossBackward0>)"
            ]
          },
          "metadata": {},
          "execution_count": 120
        }
      ]
    },
    {
      "cell_type": "markdown",
      "source": [
        "#### Refactor using `Dataset`"
      ],
      "metadata": {
        "id": "sJGV786B95ZC"
      }
    },
    {
      "cell_type": "code",
      "source": [
        "from torch.utils.data import TensorDataset"
      ],
      "metadata": {
        "id": "sCPfQNfi95OE"
      },
      "execution_count": 121,
      "outputs": []
    },
    {
      "cell_type": "code",
      "source": [
        "train_ds = TensorDataset(x_train, y_train)"
      ],
      "metadata": {
        "id": "dUcwIROK95MR"
      },
      "execution_count": 122,
      "outputs": []
    },
    {
      "cell_type": "code",
      "source": [
        "model, opt = get_model()\n",
        "\n",
        "# Iterate through epochs and dataset\n",
        "for epoch in range(epochs):\n",
        "    for i in range((n - 1) // bs + 1):\n",
        "        xb, yb = train_ds[i * bs: i * bs + bs]\n",
        "\n",
        "        preds = model(xb)\n",
        "        loss = loss_func(preds, yb)\n",
        "\n",
        "        loss.backward()\n",
        "        opt.step()\n",
        "        opt.zero_grad()"
      ],
      "metadata": {
        "id": "UBWl2RHf95J4"
      },
      "execution_count": 123,
      "outputs": []
    },
    {
      "cell_type": "code",
      "source": [
        "loss_func(model(xb), yb)"
      ],
      "metadata": {
        "colab": {
          "base_uri": "https://localhost:8080/"
        },
        "id": "NyqeoHEo95Hn",
        "outputId": "26463145-56e3-4082-b0e3-a3b3b6fa258d"
      },
      "execution_count": 124,
      "outputs": [
        {
          "output_type": "execute_result",
          "data": {
            "text/plain": [
              "tensor(0.0804, grad_fn=<NllLossBackward0>)"
            ]
          },
          "metadata": {},
          "execution_count": 124
        }
      ]
    },
    {
      "cell_type": "markdown",
      "source": [
        "#### Refactor using `DataLoader`"
      ],
      "metadata": {
        "id": "d_xhZoHq_GuL"
      }
    },
    {
      "cell_type": "code",
      "source": [
        "from torch.utils.data import DataLoader"
      ],
      "metadata": {
        "id": "jGC1-cVT95FU"
      },
      "execution_count": 125,
      "outputs": []
    },
    {
      "cell_type": "code",
      "source": [
        "train_ds = TensorDataset(x_train, y_train)\n",
        "train_dl = DataLoader(train_ds, batch_size=bs)"
      ],
      "metadata": {
        "id": "NawLmRHX95DN"
      },
      "execution_count": 126,
      "outputs": []
    },
    {
      "cell_type": "code",
      "source": [
        "model, opt = get_model()\n",
        "\n",
        "# Iterate through epochs and dataset loader\n",
        "for epoch in range(epochs):\n",
        "    for xb, yb in train_dl:\n",
        "        preds = model(xb)\n",
        "        loss = loss_func(preds, yb)\n",
        "\n",
        "        loss.backward()\n",
        "        opt.step()\n",
        "        opt.zero_grad()"
      ],
      "metadata": {
        "id": "N1ybpnRf95A_"
      },
      "execution_count": 127,
      "outputs": []
    },
    {
      "cell_type": "code",
      "source": [
        "loss_func(model(xb), yb)"
      ],
      "metadata": {
        "colab": {
          "base_uri": "https://localhost:8080/"
        },
        "id": "0JLHzAF294-3",
        "outputId": "8542933d-6e72-433f-fc3d-d93f351a7d13"
      },
      "execution_count": 128,
      "outputs": [
        {
          "output_type": "execute_result",
          "data": {
            "text/plain": [
              "tensor(0.0817, grad_fn=<NllLossBackward0>)"
            ]
          },
          "metadata": {},
          "execution_count": 128
        }
      ]
    },
    {
      "cell_type": "markdown",
      "source": [
        "#### Add validation"
      ],
      "metadata": {
        "id": "yXzUPGZA_6s9"
      }
    },
    {
      "cell_type": "code",
      "source": [
        "train_ds = TensorDataset(x_train, y_train)\n",
        "train_dl = DataLoader(train_ds, batch_size=bs, shuffle=True)\n",
        "\n",
        "valid_ds = TensorDataset(x_valid, y_valid)\n",
        "valid_dl = DataLoader(valid_ds, batch_size=bs * 2)"
      ],
      "metadata": {
        "id": "Hbe9a3iH948b"
      },
      "execution_count": 129,
      "outputs": []
    },
    {
      "cell_type": "code",
      "source": [
        "model, opt = get_model()\n",
        "\n",
        "for epoch in range(epochs):\n",
        "    model.train()\n",
        "    for xb, yb in train_dl:\n",
        "        preds = model(xb)\n",
        "        loss = loss_func(preds, yb)\n",
        "\n",
        "        loss.backward()\n",
        "        opt.step()\n",
        "        opt.zero_grad()\n",
        "\n",
        "    model.eval()\n",
        "    with torch.inference_mode():\n",
        "        valid_loss = sum(loss_func(model(xb), yb) for xb, yb in valid_dl)\n",
        "\n",
        "    print(epoch, valid_loss / len(valid_dl))"
      ],
      "metadata": {
        "colab": {
          "base_uri": "https://localhost:8080/"
        },
        "id": "6B8doazG946O",
        "outputId": "35b8bc22-562d-46c8-8f0d-58cab28624e2"
      },
      "execution_count": 132,
      "outputs": [
        {
          "output_type": "stream",
          "name": "stdout",
          "text": [
            "0 tensor(0.3217)\n",
            "1 tensor(0.2957)\n"
          ]
        }
      ]
    },
    {
      "cell_type": "markdown",
      "source": [
        "#### Create `fit()` and `get_data()`"
      ],
      "metadata": {
        "id": "p2klizYmBTJy"
      }
    },
    {
      "cell_type": "code",
      "source": [
        "def loss_batch(model, loss_func, xb, yb, opt=None):\n",
        "    loss = loss_func(model(xb), yb)\n",
        "\n",
        "    if opt is not None:\n",
        "        loss.backward()\n",
        "        opt.step()\n",
        "        opt.zero_grad()\n",
        "\n",
        "    return loss.item(), len(xb)"
      ],
      "metadata": {
        "id": "luXe9yFb944K"
      },
      "execution_count": 133,
      "outputs": []
    },
    {
      "cell_type": "code",
      "source": [
        "import numpy as np\n",
        "\n",
        "def fit(epochs, model, loss_func, opt, train_dl, valid_dl):\n",
        "    for epoch in range(epochs):\n",
        "        model.train()\n",
        "        for xb, yb in train_dl:\n",
        "            loss_batch(model, loss_func, xb, yb, opt)\n",
        "\n",
        "        model.eval()\n",
        "        with torch.inference_mode():\n",
        "            losses, nums = zip(\n",
        "                *[loss_batch(model, loss_func, xb, yb) for xb, yb in valid_dl]\n",
        "            )\n",
        "        val_loss = np.sum(np.multiply(losses, nums)) / np.sum(nums)\n",
        "\n",
        "        print(epoch, val_loss)"
      ],
      "metadata": {
        "id": "lFqAgUxk941-"
      },
      "execution_count": 134,
      "outputs": []
    },
    {
      "cell_type": "code",
      "source": [
        "def get_data(train_ds, valid_ds, bs):\n",
        "    return (\n",
        "        DataLoader(train_ds, batch_size=bs, shuffle=True),\n",
        "        DataLoader(valid_ds, batch_size=bs * 2)\n",
        "    )"
      ],
      "metadata": {
        "id": "Hgo8z8Jv94z1"
      },
      "execution_count": 135,
      "outputs": []
    },
    {
      "cell_type": "code",
      "source": [
        "train_dl, valid_dl = get_data(train_ds, valid_ds, bs)\n",
        "model, opt = get_model()\n",
        "fit(epochs, model, loss_func, opt, train_dl, valid_dl)"
      ],
      "metadata": {
        "id": "InjDOBx_94xh",
        "colab": {
          "base_uri": "https://localhost:8080/"
        },
        "outputId": "f9debe09-2b5c-4e96-90b8-6e826f67e286"
      },
      "execution_count": 136,
      "outputs": [
        {
          "output_type": "stream",
          "name": "stdout",
          "text": [
            "0 0.3051440062880516\n",
            "1 0.3117709219455719\n"
          ]
        }
      ]
    },
    {
      "cell_type": "markdown",
      "source": [
        "#### Switch to CNN"
      ],
      "metadata": {
        "id": "9cDKVZdhS53b"
      }
    },
    {
      "cell_type": "code",
      "source": [
        "class Mnist_CNN(nn.Module):\n",
        "    def __init__(self):\n",
        "        super().__init__()\n",
        "        self.conv1 = nn.Conv2d(1, 16, kernel_size=3, stride=2, padding=1)\n",
        "        self.conv2 = nn.Conv2d(16, 16, kernel_size=3, stride=2, padding=1)\n",
        "        self.conv3 = nn.Conv2d(16, 10, kernel_size=3, stride=2, padding=1)\n",
        "\n",
        "    def forward(self, xb):\n",
        "        xb = xb.view(-1, 1, 28, 28)\n",
        "        xb = F.relu(self.conv1(xb))\n",
        "        xb = F.relu(self.conv2(xb))\n",
        "        xb = F.relu(self.conv3(xb))\n",
        "        xb = F.avg_pool2d(xb, 4)\n",
        "\n",
        "        return xb.view(-1, xb.size(1))"
      ],
      "metadata": {
        "id": "DL1Six-J94va"
      },
      "execution_count": 137,
      "outputs": []
    },
    {
      "cell_type": "code",
      "source": [
        "lr = 0.1\n",
        "model = Mnist_CNN()\n",
        "opt = optim.SGD(model.parameters(), lr=lr, momentum=0.9)\n",
        "\n",
        "fit(epochs, model, loss_func, opt, train_dl, valid_dl)"
      ],
      "metadata": {
        "id": "rwMHEt3E94tT",
        "colab": {
          "base_uri": "https://localhost:8080/"
        },
        "outputId": "bb178505-2174-4cfe-ca72-3312647f9777"
      },
      "execution_count": 138,
      "outputs": [
        {
          "output_type": "stream",
          "name": "stdout",
          "text": [
            "0 0.40933661313056946\n",
            "1 0.26551061737537385\n"
          ]
        }
      ]
    },
    {
      "cell_type": "markdown",
      "source": [
        "#### Using `nn.Sequential`"
      ],
      "metadata": {
        "id": "RCP00pYAT3tN"
      }
    },
    {
      "cell_type": "code",
      "source": [
        "class Lambda(nn.Module):\n",
        "    def __init__(self, func):\n",
        "        super().__init__()\n",
        "        self.func = func\n",
        "\n",
        "    def forward(self, x):\n",
        "        return self.func(x)\n",
        "\n",
        "def preprocess(x):\n",
        "    return x.view(-1, 1, 28, 28)"
      ],
      "metadata": {
        "id": "eZh0K5KB94rR"
      },
      "execution_count": 140,
      "outputs": []
    },
    {
      "cell_type": "code",
      "source": [
        "model = nn.Sequential(\n",
        "    Lambda(preprocess),\n",
        "    nn.Conv2d(1, 16, kernel_size=3, stride=2, padding=1),\n",
        "    nn.ReLU(),\n",
        "    nn.Conv2d(16, 16, kernel_size=3, stride=2, padding=1),\n",
        "    nn.ReLU(),\n",
        "    nn.Conv2d(16, 10, kernel_size=3, stride=2, padding=1),\n",
        "    nn.ReLU(),\n",
        "    nn.AvgPool2d(4),\n",
        "    Lambda(lambda x: x.view(x.size(0), -1)),\n",
        ")\n",
        "\n",
        "opt = optim.SGD(model.parameters(), lr=lr, momentum=0.9)\n",
        "\n",
        "fit(epochs, model, loss_func, opt, train_dl, valid_dl)"
      ],
      "metadata": {
        "id": "QJkyTXbA94oz",
        "colab": {
          "base_uri": "https://localhost:8080/"
        },
        "outputId": "b9dbc584-b7ff-4036-b033-99fedcca3909"
      },
      "execution_count": 141,
      "outputs": [
        {
          "output_type": "stream",
          "name": "stdout",
          "text": [
            "0 0.4089415601015091\n",
            "1 0.22873847888708115\n"
          ]
        }
      ]
    },
    {
      "cell_type": "markdown",
      "source": [
        "#### Wrapping `DataLoader`"
      ],
      "metadata": {
        "id": "h_W5V1umVAay"
      }
    },
    {
      "cell_type": "code",
      "source": [
        "def preprocess(x, y):\n",
        "    return x.view(-1, 1, 28, 28), y"
      ],
      "metadata": {
        "id": "qnoMNgmc94mf"
      },
      "execution_count": 142,
      "outputs": []
    },
    {
      "cell_type": "code",
      "source": [
        "class WrappedDataLoader:\n",
        "    def __init__(self, dl, func):\n",
        "        self.dl = dl\n",
        "        self.func = func\n",
        "\n",
        "    def __len__(self):\n",
        "        return len(self.dl)\n",
        "\n",
        "    def __iter__(self):\n",
        "        for b in self.dl:\n",
        "            yield (self.func(*b))"
      ],
      "metadata": {
        "id": "R7ktryN8VDFW"
      },
      "execution_count": 145,
      "outputs": []
    },
    {
      "cell_type": "code",
      "source": [
        "train_dl, valid_dl = get_data(train_ds, valid_ds, bs)\n",
        "train_dl = WrappedDataLoader(train_dl, preprocess)\n",
        "valid_dl = WrappedDataLoader(valid_dl, preprocess)"
      ],
      "metadata": {
        "id": "5JbVMyEg94j_"
      },
      "execution_count": 146,
      "outputs": []
    },
    {
      "cell_type": "code",
      "source": [
        "model = nn.Sequential(\n",
        "    nn.Conv2d(1, 16, kernel_size=3, stride=2, padding=1),\n",
        "    nn.ReLU(),\n",
        "    nn.Conv2d(16, 16, kernel_size=3, stride=2, padding=1),\n",
        "    nn.ReLU(),\n",
        "    nn.Conv2d(16, 10, kernel_size=3, stride=2, padding=1),\n",
        "    nn.ReLU(),\n",
        "    nn.AdaptiveAvgPool2d(1),\n",
        "    Lambda(lambda x: x.view(x.size(0), -1)),\n",
        ")\n",
        "\n",
        "opt = optim.SGD(model.parameters(), lr=lr, momentum=0.9)"
      ],
      "metadata": {
        "id": "SmSF0I9s94hg"
      },
      "execution_count": 147,
      "outputs": []
    },
    {
      "cell_type": "code",
      "source": [
        "fit(epochs, model, loss_func, opt, train_dl, valid_dl)"
      ],
      "metadata": {
        "id": "yVKOgcnO94e8",
        "colab": {
          "base_uri": "https://localhost:8080/"
        },
        "outputId": "07cdefc3-4b00-491d-d0da-4c05b28951c6"
      },
      "execution_count": 148,
      "outputs": [
        {
          "output_type": "stream",
          "name": "stdout",
          "text": [
            "0 0.5423405205011368\n",
            "1 0.24111676715612412\n"
          ]
        }
      ]
    },
    {
      "cell_type": "markdown",
      "source": [
        "#### Using GPU"
      ],
      "metadata": {
        "id": "VQ45G_T4WrCb"
      }
    },
    {
      "cell_type": "code",
      "source": [
        "# Check the GPU is working with PyTorch\n",
        "torch.cuda.is_available()"
      ],
      "metadata": {
        "id": "lfJr1Sue94co",
        "colab": {
          "base_uri": "https://localhost:8080/"
        },
        "outputId": "ac723b5e-6fe5-4cc6-c877-d23c32451020"
      },
      "execution_count": 149,
      "outputs": [
        {
          "output_type": "execute_result",
          "data": {
            "text/plain": [
              "True"
            ]
          },
          "metadata": {},
          "execution_count": 149
        }
      ]
    },
    {
      "cell_type": "code",
      "source": [
        "dev = torch.device(\"cuda\") if torch.cuda.is_available() else torch.device(\"cpu\")"
      ],
      "metadata": {
        "id": "yz8l-DtKW7e3"
      },
      "execution_count": 150,
      "outputs": []
    },
    {
      "cell_type": "code",
      "source": [
        "def preprocess(x, y):\n",
        "    return x.view(-1, 1, 28, 28).to(dev), y.to(dev)"
      ],
      "metadata": {
        "id": "qoH1EmMeW7Te"
      },
      "execution_count": 151,
      "outputs": []
    },
    {
      "cell_type": "code",
      "source": [
        "train_dl, valid_dl = get_data(train_ds, valid_ds, bs)\n",
        "train_dl = WrappedDataLoader(train_dl, preprocess)\n",
        "valid_dl = WrappedDataLoader(valid_dl, preprocess)"
      ],
      "metadata": {
        "id": "v2Zo1AT694Z6"
      },
      "execution_count": 152,
      "outputs": []
    },
    {
      "cell_type": "code",
      "source": [
        "model.to(dev)\n",
        "opt = optim.SGD(model.parameters(), lr=lr, momentum=0.9)"
      ],
      "metadata": {
        "id": "yrg5Y1mMN-CO"
      },
      "execution_count": 153,
      "outputs": []
    },
    {
      "cell_type": "code",
      "source": [
        "fit(epochs, model, loss_func, opt, train_dl, valid_dl)"
      ],
      "metadata": {
        "colab": {
          "base_uri": "https://localhost:8080/"
        },
        "id": "lvXHFT34Xfsg",
        "outputId": "164e973d-98b9-4c21-9a9b-954573497394"
      },
      "execution_count": 154,
      "outputs": [
        {
          "output_type": "stream",
          "name": "stdout",
          "text": [
            "0 0.21742480201721193\n",
            "1 0.1860385125875473\n"
          ]
        }
      ]
    }
  ]
}